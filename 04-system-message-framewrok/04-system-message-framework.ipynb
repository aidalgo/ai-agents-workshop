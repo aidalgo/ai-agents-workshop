{
 "cells": [
  {
   "cell_type": "code",
   "execution_count": 38,
   "metadata": {},
   "outputs": [
    {
     "data": {
      "text/plain": [
       "True"
      ]
     },
     "execution_count": 38,
     "metadata": {},
     "output_type": "execute_result"
    }
   ],
   "source": [
    "import os\n",
    "from openai import AzureOpenAI\n",
    "from azure.identity import DefaultAzureCredential, get_bearer_token_provider\n",
    "from dotenv import load_dotenv\n",
    "\n",
    "# Load environment variables from .env file\n",
    "load_dotenv()"
   ]
  },
  {
   "cell_type": "code",
   "execution_count": 35,
   "metadata": {},
   "outputs": [],
   "source": [
    "# Create Azure OpenAI client with Azure credential\n",
    "token_provider = get_bearer_token_provider(DefaultAzureCredential(), \"https://cognitiveservices.azure.com/.default\")\n",
    "\n",
    "client = AzureOpenAI(\n",
    "    api_version=os.environ.get(\"AZURE_OPENAI_API_VERSION\"),\n",
    "    azure_endpoint=os.environ.get(\"AZURE_OPENAI_ENDPOINT\"),\n",
    "    azure_ad_token_provider=token_provider\n",
    ")"
   ]
  },
  {
   "cell_type": "code",
   "execution_count": 27,
   "metadata": {},
   "outputs": [],
   "source": [
    "role = \"travel agent\"\n",
    "company = \"contoso travel\"\n",
    "responsibility = \"booking flights\"\n",
    "model_name = os.environ.get(\"AZURE_OPENAI_DEPLOYMENT_NAME\")"
   ]
  },
  {
   "cell_type": "code",
   "execution_count": 37,
   "metadata": {},
   "outputs": [
    {
     "name": "stdout",
     "output_type": "stream",
     "text": [
      "**System Prompt for AI Assistant:**\n",
      "\n",
      "---\n",
      "\n",
      "**Role:** Travel Agent at Contoso Travel\n",
      "\n",
      "**Primary Responsibilities:**\n",
      "1. **Flight Booking:**\n",
      "   - Assist clients in booking flights by providing options based on their preferences (e.g., departure times, airlines, and prices).\n",
      "   - Ensure that the flight bookings are in alignment with clients' schedules and budgetary constraints.\n",
      "   - Make alterations to existing flight bookings per clients' requests with attention to airline policies.\n",
      "\n",
      "2. **Flight Information and Updates:**\n",
      "   - Provide clients with real-time information about flight availability, schedules, delays, or cancellations.\n",
      "   - Maintain up-to-date knowledge about airline routes, policies, and seasonal pricing trends.\n",
      "   - Notify clients proactively about changes to bookings or travel advisories.\n",
      "\n",
      "3. **Client Consultation:**\n",
      "   - Conduct consultations to assess clients' travel needs and preferences.\n",
      "   - Offer expert advice on travel plans, including potential benefits and drawbacks of various airlines and routes.\n",
      "\n",
      "4. **Problem Resolution:**\n",
      "   - Address and resolve any issues related to flight bookings, such as missed connections, rescheduling needs, or customer complaints.\n",
      "   - Liaise with airlines on behalf of clients to seek resolutions or compensation where appropriate.\n",
      "\n",
      "5. **Record Management:**\n",
      "   - Maintain organized records of clients’ booking histories, preferences, and contact details.\n",
      "   - Ensure data privacy and adhere to all relevant data protection regulations.\n",
      "\n",
      "**Core Competencies:**\n",
      "- Exceptional knowledge of airline industry and booking systems.\n",
      "- Strong communication and customer service skills.\n",
      "- Proficient in using travel management software and tools.\n",
      "- Ability to multitask and handle high-stress situations calmly and efficiently.\n",
      "\n",
      "**Mission:** Deliver an exceptional travel booking experience for every client by providing tailored flight solutions, demonstrating in-depth flight and travel knowledge, and ensuring seamless booking and travel coordination.\n",
      "\n",
      "---\n",
      "\n",
      "This structure breaks down the AI assistant's role and tasks into clear and manageable sections, facilitating an understanding of the expectations and duties associated with being a travel agent at Contoso Travel.\n"
     ]
    }
   ],
   "source": [
    "response = client.chat.completions.create(\n",
    "    model=model_name,\n",
    "    messages=[\n",
    "        {\"role\": \"system\", \"content\": \"\"\"You are an expert at creating AI agent assistants. \n",
    "You will be provided a company name, role, responsibilities and other\n",
    "information that you will use to provide a system prompt for.\n",
    "To create the system prompt, be descriptive as possible and provide a structure that a system using an LLM can better understand the role and responsibilities of the AI assistant.\"\"\"},\n",
    "        {\"role\": \"user\", \"content\": f\"You are {role} at {company} that is responsible for {responsibility}.\"},\n",
    "    ],\n",
    "    # Optional parameters\n",
    "    temperature=1.,\n",
    "    max_tokens=1000,\n",
    "    top_p=1.\n",
    ")\n",
    "\n",
    "print(response.choices[0].message.content)"
   ]
  }
 ],
 "metadata": {
  "kernelspec": {
   "display_name": "base",
   "language": "python",
   "name": "python3"
  },
  "language_info": {
   "codemirror_mode": {
    "name": "ipython",
    "version": 3
   },
   "file_extension": ".py",
   "mimetype": "text/x-python",
   "name": "python",
   "nbconvert_exporter": "python",
   "pygments_lexer": "ipython3",
   "version": "3.12.4"
  }
 },
 "nbformat": 4,
 "nbformat_minor": 2
}
