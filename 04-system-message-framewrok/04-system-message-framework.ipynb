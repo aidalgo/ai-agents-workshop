{
 "cells": [
  {
   "cell_type": "markdown",
   "metadata": {},
   "source": [
    "# System Message Framework\n",
    "\n",
    "This notebook demonstrates how to create effective system prompts for AI agents using Azure OpenAI. We'll explore how to use a meta-prompting approach where an AI assistant helps generate structured system messages for specific roles and responsibilities."
   ]
  },
  {
   "cell_type": "markdown",
   "metadata": {},
   "source": [
    "## Import the Needed Packages\n",
    "\n",
    "We'll import all the necessary libraries for creating our Azure OpenAI client and managing environment variables."
   ]
  },
  {
   "cell_type": "code",
   "execution_count": 1,
   "metadata": {},
   "outputs": [
    {
     "data": {
      "text/plain": [
       "True"
      ]
     },
     "execution_count": 1,
     "metadata": {},
     "output_type": "execute_result"
    }
   ],
   "source": [
    "import os\n",
    "from openai import AzureOpenAI\n",
    "from azure.identity import DefaultAzureCredential, get_bearer_token_provider\n",
    "from dotenv import load_dotenv\n",
    "\n",
    "# Load environment variables from .env file\n",
    "load_dotenv()"
   ]
  },
  {
   "cell_type": "markdown",
   "metadata": {},
   "source": [
    "## Setting up Azure OpenAI Connection\n",
    "\n",
    "Configure the Azure OpenAI service using either API key authentication or Azure AD authentication. We provide both options for flexibility in different environments."
   ]
  },
  {
   "cell_type": "code",
   "execution_count": 2,
   "metadata": {},
   "outputs": [],
   "source": [
    "# Create Azure OpenAI client with Azure credential\n",
    "\n",
    "client = AzureOpenAI(\n",
    "    api_version=os.environ.get(\"AZURE_OPENAI_API_VERSION\"),\n",
    "    azure_endpoint=os.environ.get(\"AZURE_OPENAI_ENDPOINT\"),\n",
    "    api_key=os.environ.get(\"AZURE_OPENAI_API_KEY\")\n",
    ")\n",
    "\n",
    "# Option 2: Using Azure AD Authentication (uncomment to use)\n",
    "token_provider = get_bearer_token_provider(DefaultAzureCredential(), \"https://cognitiveservices.azure.com/.default\")\n",
    "\n",
    "#client = AzureOpenAI(\n",
    "#    api_version=os.environ.get(\"AZURE_OPENAI_API_VERSION\"),\n",
    "#    azure_endpoint=os.environ.get(\"AZURE_OPENAI_ENDPOINT\"),\n",
    "#    azure_ad_token_provider=token_provider\n",
    "#)"
   ]
  },
  {
   "cell_type": "markdown",
   "metadata": {},
   "source": [
    "## Define Agent Parameters\n",
    "\n",
    "Set up the basic parameters that will be used to generate a system prompt. These parameters define the role, company context, and specific responsibilities of the AI agent we want to create."
   ]
  },
  {
   "cell_type": "code",
   "execution_count": null,
   "metadata": {},
   "outputs": [],
   "source": [
    "role = \"travel agent\"\n",
    "company = \"contoso travel\"\n",
    "responsibility = \"booking flights\"\n",
    "model_name = os.environ.get(\"AZURE_OPENAI_DEPLOYMENT_NAME\")"
   ]
  },
  {
   "cell_type": "markdown",
   "metadata": {},
   "source": [
    "## Generate System Prompt using Meta-Prompting\n",
    "\n",
    "Use a meta-prompting approach where we ask an AI assistant to generate a structured system prompt based on the role and responsibilities we've defined. This technique helps create more comprehensive and well-structured system messages."
   ]
  },
  {
   "cell_type": "code",
   "execution_count": null,
   "metadata": {},
   "outputs": [
    {
     "name": "stdout",
     "output_type": "stream",
     "text": [
      "**System Prompt: AI Assistant for Flight Booking at Contoso Travel**\n",
      "\n",
      "You are an advanced AI travel agent working for **Contoso Travel**, specializing in booking flights for customers. Your role is to assist clients in searching, selecting, and booking the most suitable flights based on their preferences, budget, and travel requirements. You also provide additional flight-related services and information. Your goal is to deliver accurate, personalized, and efficient travel solutions while ensuring a streamlined experience for users.\n",
      "\n",
      "---\n",
      "\n",
      "### **Role Description**\n",
      "You are a virtual travel agent tasked with handling flight booking inquiries from customers. Your responsibilities include understanding their travel needs, presenting options, facilitating bookings, and offering relevant advice. You may also answer questions related to flight policies, ticket modifications, cancellations, and other travel assistance.\n",
      "\n",
      "---\n",
      "\n",
      "### **Key Responsibilities**\n",
      "1. **Flight Search and Selection**:\n",
      "   - Gather necessary customer details, such as preferred dates, destinations, budget, airline preferences, and travel class.\n",
      "   - Search for and recommend flights that meet the customer's needs, considering factors like layovers, departure/arrival times, and prices.\n",
      "   - Provide clear comparisons of available options, highlighting pros and cons (e.g., shorter trips vs. cheaper alternatives).\n",
      "\n",
      "2. **Booking Assistance**:\n",
      "   - Guide the customer through the booking process by securing their chosen itinerary.\n",
      "   - Confirm details like passenger names, special requirements (e.g., meals, wheelchair assistance), and payment information.\n",
      "\n",
      "3. **Changes, Cancellations, and Policies**:\n",
      "   - Facilitate modifications to flight bookings when requested, such as date changes or upgrades.\n",
      "   - Explain cancellation and refund policies as per airline or travel agency guidelines.\n",
      "   - Provide notifications about fees or penalties for changes and cancellations.\n",
      "\n",
      "4. **Travel Support**:\n",
      "   - Offer advice on luggage allowances, check-in procedures, boarding passes, seat selections, and other flight-related concerns.\n",
      "   - Share updates on travel restrictions, visa requirements, or health regulations based on destination.\n",
      "   - Address common questions about loyalty programs or frequent flyer points.\n",
      "\n",
      "---\n",
      "\n",
      "### **Behavior Guidelines**\n",
      "- **Clear Communication**: Provide concise, user-friendly explanations tailored to the client’s level of familiarity with travel booking processes. Avoid jargon unless requested.\n",
      "- **Empathy and Understanding**: Show understanding of the client’s preferences, urgency, and budget constraints. Offer flexible options where possible.\n",
      "- **Accuracy**: Ensure all flight details are precise, verifying itineraries carefully to avoid errors or misunderstandings.\n",
      "- **Proactivity**: Anticipate and address potential needs, such as alternative travel dates, connecting flights, or discount opportunities.\n",
      "\n",
      "---\n",
      "\n",
      "### **Key Inputs to Expect from Users**\n",
      "- **Travel details**: Origin, destination, travel dates, preferred departure/arrival times.\n",
      "- **Budget constraints**: Maximum price and whether flexibility is allowed.\n",
      "- **Preferences**: Airline, travel class, direct flights, or willingness to consider layovers.\n",
      "- **Passenger details**: Full names, age groups (adults, children, infants), special requirements.\n",
      "- **Travel purpose**: Business or leisure (to help personalize recommendations).\n",
      "\n",
      "---\n",
      "\n",
      "### **Outputs to Generate**\n",
      "- **Flight options**: Ranked list of flight itineraries, including airline, flight number, departure/arrival times, layover duration, and costs.\n",
      "- **Booking confirmation**: Proof of booking and detailed itinerary once finalized.\n",
      "- **Policy advice**: Clear guidelines on cancellations, refunds, or modifications.\n",
      "- **Travel tips**: Recommendations on luggage, insurance, and travel regulations.\n",
      "\n",
      "---\n",
      "\n",
      "### **Constraints**\n",
      "- Ensure all recommendations comply with Contoso Travel policies and partner agreements with airlines.\n",
      "- Respect user privacy by not storing or sharing sensitive information without explicit permission.\n",
      "- Avoid recommending non-verified third-party booking providers.\n",
      "\n",
      "By understanding your role as a flight booking assistant for Contoso Travel, you can effectively provide a seamless and satisfying experience for customers planning their air travel.\n"
     ]
    }
   ],
   "source": [
    "# Create a chat completion request to generate a system prompt\n",
    "response = client.chat.completions.create(\n",
    "    model=model_name,  # Use the specified Azure OpenAI model\n",
    "    messages=[\n",
    "        # System message: Define the AI's role as a system prompt expert\n",
    "        {\"role\": \"system\", \"content\": \"\"\"You are an expert at creating AI agent assistants. \n",
    "You will be provided a company name, role, responsibilities and other\n",
    "information that you will use to provide a system prompt for.\n",
    "To create the system prompt, be descriptive as possible and provide a structure that a system using an LLM can better understand the role and responsibilities of the AI assistant.\"\"\"},\n",
    "        # User message: Provide the specific role details to generate a system prompt for\n",
    "        {\"role\": \"user\", \"content\": f\"You are {role} at {company} that is responsible for {responsibility}.\"},\n",
    "    ],\n",
    "    # Optional parameters to control response generation\n",
    "    temperature=1.,      # Controls randomness (1.0 = more creative)\n",
    "    max_tokens=1000,     # Maximum length of the response\n",
    "    top_p=1.             # Controls diversity of word selection\n",
    ")\n",
    "\n",
    "# Print the generated system prompt\n",
    "print(response.choices[0].message.content)"
   ]
  },
  {
   "cell_type": "markdown",
   "metadata": {},
   "source": [
    "## Experiment with Different Roles\n",
    "\n",
    "Try modifying the role, company, and responsibility variables above to generate system prompts for different types of AI agents. This framework can be used to create specialized assistants for various domains and use cases."
   ]
  },
  {
   "cell_type": "code",
   "execution_count": null,
   "metadata": {},
   "outputs": [],
   "source": [
    "# Example: Try different roles and responsibilities\n",
    "# Uncomment and modify these examples to experiment:\n",
    "\n",
    "# Example 1: Customer service agent\n",
    "# role = \"customer service representative\"\n",
    "# company = \"TechCorp Solutions\"\n",
    "# responsibility = \"resolving technical support issues\"\n",
    "\n",
    "# Example 2: Financial advisor\n",
    "# role = \"financial advisor\"\n",
    "# company = \"WealthWise Financial\"\n",
    "# responsibility = \"providing investment recommendations\"\n",
    "\n",
    "# Example 3: Healthcare assistant\n",
    "# role = \"medical assistant\"\n",
    "# company = \"HealthFirst Clinic\"\n",
    "# responsibility = \"scheduling appointments and answering basic health questions\"\n",
    "\n",
    "# Run the cell above again after changing these values to see different system prompts"
   ]
  }
 ],
 "metadata": {
  "kernelspec": {
   "display_name": "base",
   "language": "python",
   "name": "python3"
  },
  "language_info": {
   "codemirror_mode": {
    "name": "ipython",
    "version": 3
   },
   "file_extension": ".py",
   "mimetype": "text/x-python",
   "name": "python",
   "nbconvert_exporter": "python",
   "pygments_lexer": "ipython3",
   "version": "3.12.4"
  }
 },
 "nbformat": 4,
 "nbformat_minor": 2
}
