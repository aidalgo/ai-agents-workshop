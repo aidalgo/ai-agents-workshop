{
 "cells": [
  {
   "cell_type": "markdown",
   "metadata": {},
   "source": [
    "# System Message Framework\n",
    "\n",
    "This notebook demonstrates how to create effective system prompts for AI agents using Azure OpenAI. We'll explore how to use a meta-prompting approach where an AI assistant helps generate structured system messages for specific roles and responsibilities."
   ]
  },
  {
   "cell_type": "markdown",
   "metadata": {},
   "source": [
    "## Import the Needed Packages\n",
    "\n",
    "We'll import all the necessary libraries for creating our Azure OpenAI client and managing environment variables."
   ]
  },
  {
   "cell_type": "code",
   "execution_count": null,
   "metadata": {},
   "outputs": [],
   "source": [
    "import os\n",
    "from openai import AzureOpenAI\n",
    "from azure.identity import DefaultAzureCredential, get_bearer_token_provider\n",
    "from dotenv import load_dotenv\n",
    "\n",
    "# Load environment variables from .env file\n",
    "load_dotenv()"
   ]
  },
  {
   "cell_type": "markdown",
   "metadata": {},
   "source": [
    "## Setting up Azure OpenAI Connection\n",
    "\n",
    "Configure the Azure OpenAI service using either API key authentication or Azure AD authentication. We provide both options for flexibility in different environments."
   ]
  },
  {
   "cell_type": "code",
   "execution_count": null,
   "metadata": {},
   "outputs": [],
   "source": [
    "# Create Azure OpenAI client with Azure credential\n",
    "\n",
    "client = AzureOpenAI(\n",
    "    api_version=os.environ.get(\"AZURE_OPENAI_API_VERSION\"),\n",
    "    azure_endpoint=os.environ.get(\"AZURE_OPENAI_ENDPOINT\"),\n",
    "    api_key=os.environ.get(\"AZURE_OPENAI_API_KEY\")\n",
    ")\n",
    "\n",
    "# Option 2: Using Azure AD Authentication (uncomment to use)\n",
    "token_provider = get_bearer_token_provider(DefaultAzureCredential(), \"https://cognitiveservices.azure.com/.default\")\n",
    "\n",
    "#client = AzureOpenAI(\n",
    "#    api_version=os.environ.get(\"AZURE_OPENAI_API_VERSION\"),\n",
    "#    azure_endpoint=os.environ.get(\"AZURE_OPENAI_ENDPOINT\"),\n",
    "#    azure_ad_token_provider=token_provider\n",
    "#)"
   ]
  },
  {
   "cell_type": "markdown",
   "metadata": {},
   "source": [
    "## Define Agent Parameters\n",
    "\n",
    "Set up the basic parameters that will be used to generate a system prompt. These parameters define the role, company context, and specific responsibilities of the AI agent we want to create."
   ]
  },
  {
   "cell_type": "code",
   "execution_count": null,
   "metadata": {},
   "outputs": [],
   "source": [
    "role = \"travel agent\"\n",
    "company = \"contoso travel\"\n",
    "responsibility = \"booking flights\"\n",
    "model_name = os.environ.get(\"AZURE_OPENAI_DEPLOYMENT_NAME\")"
   ]
  },
  {
   "cell_type": "markdown",
   "metadata": {},
   "source": [
    "## Generate System Prompt using Meta-Prompting\n",
    "\n",
    "Use a meta-prompting approach where we ask an AI assistant to generate a structured system prompt based on the role and responsibilities we've defined. This technique helps create more comprehensive and well-structured system messages."
   ]
  },
  {
   "cell_type": "code",
   "execution_count": null,
   "metadata": {},
   "outputs": [],
   "source": [
    "# Create a chat completion request to generate a system prompt\n",
    "response = client.chat.completions.create(\n",
    "    model=model_name,  # Use the specified Azure OpenAI model\n",
    "    messages=[\n",
    "        # System message: Define the AI's role as a system prompt expert\n",
    "        {\"role\": \"system\", \"content\": \"\"\"You are an expert at creating AI agent assistants. \n",
    "You will be provided a company name, role, responsibilities and other\n",
    "information that you will use to provide a system prompt for.\n",
    "To create the system prompt, be descriptive as possible and provide a structure that a system using an LLM can better understand the role and responsibilities of the AI assistant.\"\"\"},\n",
    "        # User message: Provide the specific role details to generate a system prompt for\n",
    "        {\"role\": \"user\", \"content\": f\"You are {role} at {company} that is responsible for {responsibility}.\"},\n",
    "    ],\n",
    "    # Optional parameters to control response generation\n",
    "    temperature=1.,      # Controls randomness (1.0 = more creative)\n",
    "    max_tokens=1000,     # Maximum length of the response\n",
    "    top_p=1.             # Controls diversity of word selection\n",
    ")\n",
    "\n",
    "# Print the generated system prompt\n",
    "print(response.choices[0].message.content)"
   ]
  },
  {
   "cell_type": "markdown",
   "metadata": {},
   "source": [
    "## Experiment with Different Roles\n",
    "\n",
    "Try modifying the role, company, and responsibility variables above to generate system prompts for different types of AI agents. This framework can be used to create specialized assistants for various domains and use cases."
   ]
  },
  {
   "cell_type": "code",
   "execution_count": null,
   "metadata": {},
   "outputs": [],
   "source": [
    "# Example: Try different roles and responsibilities\n",
    "# Uncomment and modify these examples to experiment:\n",
    "\n",
    "# Example 1: Customer service agent\n",
    "# role = \"customer service representative\"\n",
    "# company = \"TechCorp Solutions\"\n",
    "# responsibility = \"resolving technical support issues\"\n",
    "\n",
    "# Example 2: Financial advisor\n",
    "# role = \"financial advisor\"\n",
    "# company = \"WealthWise Financial\"\n",
    "# responsibility = \"providing investment recommendations\"\n",
    "\n",
    "# Example 3: Healthcare assistant\n",
    "# role = \"medical assistant\"\n",
    "# company = \"HealthFirst Clinic\"\n",
    "# responsibility = \"scheduling appointments and answering basic health questions\"\n",
    "\n",
    "# Run the cell above again after changing these values to see different system prompts"
   ]
  }
 ],
 "metadata": {
  "kernelspec": {
   "display_name": "base",
   "language": "python",
   "name": "python3"
  },
  "language_info": {
   "codemirror_mode": {
    "name": "ipython",
    "version": 3
   },
   "file_extension": ".py",
   "mimetype": "text/x-python",
   "name": "python",
   "nbconvert_exporter": "python",
   "pygments_lexer": "ipython3",
   "version": "3.12.4"
  }
 },
 "nbformat": 4,
 "nbformat_minor": 2
}
