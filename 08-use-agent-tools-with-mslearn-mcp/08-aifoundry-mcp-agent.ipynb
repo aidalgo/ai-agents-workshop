{
 "cells": [
  {
   "cell_type": "markdown",
   "id": "376779e4",
   "metadata": {},
   "source": [
    "# Azure AI Foundry Agent with Microsoft Learn MCP\n",
    "\n",
    "This notebook demonstrates how to create an Azure AI Foundry agent that can search and fetch Microsoft Learn documentation using the Model Context Protocol (MCP)."
   ]
  },
  {
   "cell_type": "markdown",
   "id": "fd05c3a1",
   "metadata": {},
   "source": [
    "## Import the Needed Packages\n",
    "\n",
    "We'll import all the necessary libraries for creating our Azure AI Foundry agent with MCP support."
   ]
  },
  {
   "cell_type": "code",
   "execution_count": null,
   "id": "d192f7bf",
   "metadata": {},
   "outputs": [],
   "source": [
    "# Install required packages from requirements.txt\n",
    "%pip install -r requirements-aifoundry.txt"
   ]
  },
  {
   "cell_type": "code",
   "execution_count": null,
   "id": "b154abaa",
   "metadata": {},
   "outputs": [],
   "source": [
    "# Import necessary libraries - Following official Microsoft documentation\n",
    "import os, time\n",
    "from azure.ai.projects import AIProjectClient\n",
    "from azure.identity import DefaultAzureCredential\n",
    "from azure.ai.agents.models import (\n",
    "    ListSortOrder,\n",
    "    McpTool,\n",
    "    RequiredMcpToolCall,\n",
    "    RunStepActivityDetails,\n",
    "    SubmitToolApprovalAction,\n",
    "    ToolApproval,\n",
    ")\n",
    "\n",
    "from IPython.display import display, HTML\n",
    "import requests\n",
    "from dotenv import load_dotenv"
   ]
  },
  {
   "cell_type": "markdown",
   "id": "1c59828d",
   "metadata": {},
   "source": [
    "## Setting up Azure AI Foundry Connection\n",
    "\n",
    "Configure the Azure AI Foundry project connection and MCP server settings."
   ]
  },
  {
   "cell_type": "code",
   "execution_count": null,
   "id": "4167ce0e",
   "metadata": {},
   "outputs": [],
   "source": [
    "load_dotenv()\n",
    "\n",
    "# Get MCP server configuration from environment variables - Following Microsoft docs\n",
    "mcp_server_url = os.environ.get(\"MCP_SERVER_URL\", \"https://learn.microsoft.com/api/mcp\")\n",
    "mcp_server_label = os.environ.get(\"MCP_SERVER_LABEL\", \"mslearn\")\n",
    "\n",
    "# Azure AI Foundry project configuration\n",
    "PROJECT_ENDPOINT = os.environ.get(\"PROJECT_ENDPOINT\", os.environ.get(\"AZURE_AI_AGENT_ENDPOINT\"))\n",
    "\n",
    "# Override with valid model deployment name\n",
    "MODEL_DEPLOYMENT_NAME = os.environ.get(\"AZURE_AI_MODEL_NAME\", \"gpt-4o\")  # Use standard gpt-4o model\n",
    "\n",
    "print(f\"MCP Server URL: {mcp_server_url}\")\n",
    "print(f\"MCP Server Label: {mcp_server_label}\")\n",
    "print(f\"Project Endpoint: {PROJECT_ENDPOINT}\")\n",
    "print(f\"Model Deployment: {MODEL_DEPLOYMENT_NAME}\")"
   ]
  },
  {
   "cell_type": "markdown",
   "id": "1bc3ee1a",
   "metadata": {},
   "source": [
    "## Creating the Azure AI Foundry Agent\n",
    "\n",
    "Create an Azure AI Foundry agent with access to Microsoft Learn documentation through MCP tools."
   ]
  },
  {
   "cell_type": "code",
   "execution_count": null,
   "id": "629d476c",
   "metadata": {},
   "outputs": [],
   "source": [
    "# Initialize Azure AI Project client - Following Microsoft documentation\n",
    "project_client = AIProjectClient(\n",
    "    endpoint=PROJECT_ENDPOINT,\n",
    "    credential=DefaultAzureCredential(),\n",
    ")\n",
    "\n",
    "# Initialize agent MCP tool for Microsoft Learn\n",
    "mcp_tool = McpTool(\n",
    "    server_label=mcp_server_label,\n",
    "    server_url=mcp_server_url,\n",
    "    allowed_tools=[],  # Optional: specify allowed tools - empty allows all\n",
    ")\n",
    "\n",
    "# You can also add or remove allowed tools dynamically\n",
    "microsoft_docs_search = \"microsoft_docs_search\"\n",
    "microsoft_docs_fetch = \"microsoft_docs_fetch\"\n",
    "mcp_tool.allow_tool(microsoft_docs_search)\n",
    "mcp_tool.allow_tool(microsoft_docs_fetch)\n",
    "mcp_tool.set_approval_mode(\"never\")\n",
    "print(f\"Allowed tools: {mcp_tool.allowed_tools}\")\n",
    "\n",
    "# Create agent with MCP tool\n",
    "with project_client:\n",
    "    agents_client = project_client.agents\n",
    "\n",
    "    # Create a new agent\n",
    "    agent = agents_client.create_agent(\n",
    "        model=MODEL_DEPLOYMENT_NAME,\n",
    "        name=\"Microsoft Learn MCP Agent\",\n",
    "        instructions=\"\"\"You are a helpful agent that can use Microsoft Learn MCP tools to assist users. \n",
    "\n",
    "Use the available MCP tools to search and fetch Microsoft Learn documentation:\n",
    "- microsoft_docs_search: Search Microsoft documentation for specific topics\n",
    "- microsoft_docs_fetch: Retrieve specific documentation content\n",
    "\n",
    "When helping users:\n",
    "- Search for relevant documentation using microsoft_docs_search\n",
    "- Fetch detailed content when users need specific information\n",
    "- Provide direct links to documentation when possible\n",
    "- Summarize complex topics clearly\n",
    "\n",
    "Always verify information by checking the official Microsoft documentation through the MCP tools.\"\"\",\n",
    "        tools=mcp_tool.definitions,\n",
    "    )\n",
    "\n",
    "    print(f\"✅ Created agent, ID: {agent.id}\")\n",
    "    print(f\"Agent Name: {agent.name}\")\n",
    "    print(f\"MCP Server: {mcp_tool.server_label} at {mcp_tool.server_url}\")\n",
    "    print(f\"Tools configured: {len(mcp_tool.definitions)}\")\n",
    "    \n",
    "    # Store agent ID for later use\n",
    "    global current_agent_id\n",
    "    current_agent_id = agent.id"
   ]
  },
  {
   "cell_type": "markdown",
   "id": "8fb3c8ed",
   "metadata": {},
   "source": [
    "## Agent Interaction Function\n",
    "\n",
    "Create a function to handle user interactions with the agent, displaying the conversation and tool usage."
   ]
  },
  {
   "cell_type": "code",
   "execution_count": null,
   "id": "0620f525",
   "metadata": {},
   "outputs": [],
   "source": [
    "async def chat_with_agent(user_input, thread_id=None):\n",
    "    \"\"\"Chat with the Azure AI Foundry agent using MCP tools.\"\"\"\n",
    "    \n",
    "    # Create new client for this interaction\n",
    "    client = AIProjectClient(\n",
    "        endpoint=PROJECT_ENDPOINT,\n",
    "        credential=DefaultAzureCredential(),\n",
    "    )\n",
    "    \n",
    "    with client:\n",
    "        agents_client = client.agents\n",
    "        \n",
    "        # Use existing thread or create new one\n",
    "        if thread_id:\n",
    "            thread = agents_client.threads.get(thread_id)\n",
    "        else:\n",
    "            thread = agents_client.threads.create()\n",
    "            \n",
    "        print(f\"🗨️ User: {user_input}\")\n",
    "        \n",
    "        # Create message\n",
    "        message = agents_client.messages.create(\n",
    "            thread_id=thread.id,\n",
    "            role=\"user\",\n",
    "            content=user_input\n",
    "        )\n",
    "        \n",
    "        # Create run with MCP tools\n",
    "        run = agents_client.runs.create(\n",
    "            thread_id=thread.id,\n",
    "            agent_id=current_agent_id,\n",
    "            tool_resources=mcp_tool.resources\n",
    "        )\n",
    "        \n",
    "        # Process run until completion\n",
    "        while run.status in [\"queued\", \"in_progress\", \"requires_action\"]:\n",
    "            time.sleep(2)\n",
    "            run = agents_client.runs.get(thread_id=thread.id, run_id=run.id)\n",
    "            \n",
    "            if run.status == \"requires_action\" and isinstance(run.required_action, SubmitToolApprovalAction):\n",
    "                tool_calls = run.required_action.submit_tool_approval.tool_calls\n",
    "                if tool_calls:\n",
    "                    tool_approvals = []\n",
    "                    for tool_call in tool_calls:\n",
    "                        if isinstance(tool_call, RequiredMcpToolCall):\n",
    "                            print(f\"🔧 Using tool: {tool_call.function.name}\")\n",
    "                            tool_approvals.append(\n",
    "                                ToolApproval(\n",
    "                                    tool_call_id=tool_call.id,\n",
    "                                    approve=True,\n",
    "                                    headers=mcp_tool.headers,\n",
    "                                )\n",
    "                            )\n",
    "                    \n",
    "                    if tool_approvals:\n",
    "                        agents_client.runs.submit_tool_outputs(\n",
    "                            thread_id=thread.id,\n",
    "                            run_id=run.id,\n",
    "                            tool_approvals=tool_approvals\n",
    "                        )\n",
    "        \n",
    "        # Display response\n",
    "        if run.status == \"completed\":\n",
    "            messages = agents_client.messages.list(thread_id=thread.id, order=ListSortOrder.DESCENDING)\n",
    "            for msg in messages:\n",
    "                if msg.role == \"assistant\" and msg.text_messages:\n",
    "                    last_text = msg.text_messages[-1]\n",
    "                    print(f\"🤖 Assistant: {last_text.text.value}\")\n",
    "                    break\n",
    "        else:\n",
    "            print(f\"❌ Run failed with status: {run.status}\")\n",
    "            \n",
    "        return thread.id\n",
    "\n",
    "print(\"✅ Chat function created successfully!\")"
   ]
  },
  {
   "cell_type": "markdown",
   "id": "39c39c8a",
   "metadata": {},
   "source": [
    "## Testing the Agent\n",
    "\n",
    "Let's test our agent with questions about Microsoft technologies and Azure services."
   ]
  },
  {
   "cell_type": "code",
   "execution_count": null,
   "id": "c25bd3da",
   "metadata": {},
   "outputs": [],
   "source": [
    "# Test the agent with a question about Azure AI Foundry\n",
    "test_question = \"How do I get started with Azure AI Foundry? Please search Microsoft Learn documentation.\"\n",
    "\n",
    "print(\"Testing the Azure AI Foundry agent with MCP tools...\")\n",
    "thread_id = await chat_with_agent(test_question)"
   ]
  },
  {
   "cell_type": "markdown",
   "id": "b7f3ed86",
   "metadata": {},
   "source": [
    "## Cleanup\n",
    "\n",
    "Clean up the Azure AI Foundry agent when done."
   ]
  },
  {
   "cell_type": "code",
   "execution_count": null,
   "id": "b6cf39ef",
   "metadata": {},
   "outputs": [],
   "source": [
    "# Clean up the agent when finished\n",
    "try:\n",
    "    cleanup_client = AIProjectClient(\n",
    "        endpoint=PROJECT_ENDPOINT,\n",
    "        credential=DefaultAzureCredential(),\n",
    "    )\n",
    "    \n",
    "    with cleanup_client:\n",
    "        agents_client = cleanup_client.agents\n",
    "        agents_client.delete_agent(current_agent_id)\n",
    "        print(f\"🗑️ Deleted agent: {current_agent_id}\")\n",
    "    \n",
    "except Exception as e:\n",
    "    print(f\"⚠️ Cleanup error: {e}\")\n",
    "\n",
    "print(\"\\n🎉 Azure AI Foundry + Microsoft Learn MCP session completed!\")\n",
    "print(\"\udcda Documentation: https://learn.microsoft.com/en-us/azure/ai-foundry/agents/how-to/tools/model-context-protocol-samples\")"
   ]
  }
 ],
 "metadata": {
  "kernelspec": {
   "display_name": "sk-notebook",
   "language": "python",
   "name": "python3"
  },
  "language_info": {
   "codemirror_mode": {
    "name": "ipython",
    "version": 3
   },
   "file_extension": ".py",
   "mimetype": "text/x-python",
   "name": "python",
   "nbconvert_exporter": "python",
   "pygments_lexer": "ipython3",
   "version": "3.12.11"
  }
 },
 "nbformat": 4,
 "nbformat_minor": 5
}
