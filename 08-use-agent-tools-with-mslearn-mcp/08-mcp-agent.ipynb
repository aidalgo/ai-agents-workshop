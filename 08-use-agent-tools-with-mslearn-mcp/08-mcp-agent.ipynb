{
 "cells": [
  {
   "cell_type": "markdown",
   "id": "eb8f0cfb",
   "metadata": {},
   "source": [
    "# MCP Agent with Microsoft Learn Documentation\n",
    "\n",
    "This notebook demonstrates how to create an AI agent that can search and fetch Microsoft Learn documentation using the Model Context Protocol (MCP)."
   ]
  },
  {
   "cell_type": "markdown",
   "id": "1955393a",
   "metadata": {},
   "source": [
    "## Import the Needed Packages\n",
    "\n",
    "We'll import all the necessary libraries for creating our MCP-enabled agent."
   ]
  },
  {
   "cell_type": "code",
   "execution_count": null,
   "id": "96c2b839",
   "metadata": {},
   "outputs": [],
   "source": [
    "import os\n",
    "import asyncio\n",
    "import json\n",
    "from dotenv import load_dotenv\n",
    "\n",
    "# Add references\n",
    "from azure.identity import DefaultAzureCredential\n",
    "from semantic_kernel import Kernel\n",
    "from semantic_kernel.agents import ChatCompletionAgent, ChatHistoryAgentThread\n",
    "from semantic_kernel.connectors.ai.open_ai import AzureChatCompletion\n",
    "from semantic_kernel.contents import FunctionCallContent, FunctionResultContent, StreamingTextContent\n",
    "from semantic_kernel.connectors.mcp import MCPStreamableHttpPlugin\n",
    "\n",
    "from IPython.display import display, HTML"
   ]
  },
  {
   "cell_type": "markdown",
   "id": "5ac726cb",
   "metadata": {},
   "source": [
    "## Setting up Azure OpenAI Connection\n",
    "\n",
    "Configure the Azure OpenAI service using Azure AD authentication."
   ]
  },
  {
   "cell_type": "code",
   "execution_count": null,
   "id": "e5975748",
   "metadata": {},
   "outputs": [],
   "source": [
    "load_dotenv()\n",
    "\n",
    "# Option 1: Using API Key (recommended for development)\n",
    "chat_completion_service = AzureChatCompletion(\n",
    "    deployment_name=os.environ.get(\"AZURE_OPENAI_DEPLOYMENT_NAME\", \"gpt-4o-mini\"),\n",
    "    endpoint=os.environ.get(\"AZURE_OPENAI_ENDPOINT\"),\n",
    "    api_version=os.environ.get(\"AZURE_OPENAI_API_VERSION\", \"2024-02-01\"),\n",
    "    api_key=os.environ.get(\"AZURE_OPENAI_API_KEY\")\n",
    ")\n",
    "\n",
    "# Option 2: Using Azure AD Authentication (uncomment to use)\n",
    "# Create Azure credential \n",
    "credential = DefaultAzureCredential()\n",
    "\n",
    "# Create a token provider function\n",
    "def get_azure_ad_token():\n",
    "    \"\"\"Function to get Azure AD token for OpenAI.\"\"\"\n",
    "    token = credential.get_token(\"https://cognitiveservices.azure.com/.default\")\n",
    "    return token.token\n",
    "\n",
    "# chat_completion_service = AzureChatCompletion(\n",
    "#     deployment_name=os.environ.get(\"AZURE_OPENAI_DEPLOYMENT_NAME\", \"gpt-4o-mini\"),\n",
    "#     endpoint=os.environ.get(\"AZURE_OPENAI_ENDPOINT\"),\n",
    "#     api_version=os.environ.get(\"AZURE_OPENAI_API_VERSION\", \"2024-02-01\"),\n",
    "#     ad_token=get_azure_ad_token()"
   ]
  },
  {
   "cell_type": "markdown",
   "id": "26c0c328",
   "metadata": {},
   "source": [
    "## Configure MCP Plugin\n",
    "\n",
    "Set up the Model Context Protocol plugin to connect to Microsoft Learn documentation."
   ]
  },
  {
   "cell_type": "code",
   "execution_count": null,
   "id": "79d9fe71",
   "metadata": {},
   "outputs": [],
   "source": [
    "# MCP server configuration\n",
    "mcp_server_url = \"https://learn.microsoft.com/api/mcp\"\n",
    "mcp_server_label = \"mslearn\"\n",
    "\n",
    "# Create MCP Plugin for Semantic Kernel\n",
    "mcp_plugin = MCPStreamableHttpPlugin(\n",
    "    name=mcp_server_label,\n",
    "    url=mcp_server_url\n",
    ")\n",
    "\n",
    "# Create kernel\n",
    "kernel = Kernel()\n",
    "\n",
    "print(f\"MCP Plugin configured for: {mcp_server_label} at {mcp_server_url}\")"
   ]
  },
  {
   "cell_type": "markdown",
   "id": "97095c67",
   "metadata": {},
   "source": [
    "## Creating the MCP Agent\n",
    "\n",
    "Create an AI agent with access to Microsoft Learn documentation through MCP tools."
   ]
  },
  {
   "cell_type": "code",
   "execution_count": null,
   "id": "1b6524b3",
   "metadata": {},
   "outputs": [],
   "source": [
    "# Create agent with MCP plugin via kernel\n",
    "agent = ChatCompletionAgent(\n",
    "    service=chat_completion_service,\n",
    "    kernel=kernel,\n",
    "    name=\"Microsoft-Learn-Agent\",\n",
    "    instructions=\"\"\"\n",
    "    You are a helpful assistant with access to Microsoft Learn documentation through MCP tools.\n",
    "    \n",
    "    ## Querying Microsoft Documentation\n",
    "    \n",
    "    You have access to MCP tools called `microsoft_docs_search` and `microsoft_docs_fetch` - these tools allow you to \n",
    "    search through and fetch Microsoft's latest official documentation, and that information might be more detailed \n",
    "    or newer than what's in your training data set.\n",
    "\n",
    "    When handling questions around how to work with native Microsoft technologies, such as C#, F#, ASP.NET Core, \n",
    "    Microsoft.Extensions, NuGet, Entity Framework, the `dotnet` runtime, Azure services, or any Microsoft \n",
    "    technologies - please use these tools for research purposes when dealing with specific / narrowly defined \n",
    "    questions that may occur.\n",
    "    \n",
    "    ALWAYS use the available MCP tools to search Microsoft Learn documentation when users ask about:\n",
    "    - Azure services and configuration\n",
    "    - Microsoft technologies and frameworks\n",
    "    - Official documentation and best practices\n",
    "    - Step-by-step guides and tutorials\n",
    "    \n",
    "    Use phrases like \"searching Microsoft docs\" to indicate you're using the tools.\n",
    "    \"\"\"\n",
    ")\n",
    "\n",
    "print(f\"Created agent: {agent.name}\")"
   ]
  },
  {
   "cell_type": "markdown",
   "id": "313db5b4",
   "metadata": {},
   "source": [
    "## Initialize MCP Connection\n",
    "\n",
    "Connect to the MCP server and load available tools and prompts."
   ]
  },
  {
   "cell_type": "code",
   "execution_count": null,
   "id": "2cd1a8aa",
   "metadata": {},
   "outputs": [],
   "source": [
    "async def initialize_mcp():\n",
    "    \"\"\"Initialize MCP plugin connection and load tools.\"\"\"\n",
    "    try:\n",
    "        await mcp_plugin.connect()\n",
    "        print(f\"MCP Plugin connected successfully\")\n",
    "        \n",
    "        # Load tools and prompts\n",
    "        await mcp_plugin.load_tools()\n",
    "        await mcp_plugin.load_prompts()\n",
    "        print(\"MCP tools and prompts loaded\")\n",
    "        \n",
    "        # Add the MCP plugin to the kernel\n",
    "        kernel.add_plugin(mcp_plugin)\n",
    "        print(f\"MCP plugin added to kernel\")\n",
    "        \n",
    "        return True\n",
    "        \n",
    "    except Exception as e:\n",
    "        print(f\"MCP Plugin setup error: {e}\")\n",
    "        import traceback\n",
    "        traceback.print_exc()\n",
    "        return False\n",
    "\n",
    "# Initialize the MCP connection\n",
    "mcp_initialized = await initialize_mcp()\n",
    "print(f\"\\nMCP initialization {'successful' if mcp_initialized else 'failed'}\")"
   ]
  },
  {
   "cell_type": "markdown",
   "id": "711a758f",
   "metadata": {},
   "source": [
    "## Agent Interaction Function\n",
    "\n",
    "Create a function to handle user interactions with the agent, displaying both the conversation and function calls."
   ]
  },
  {
   "cell_type": "code",
   "execution_count": null,
   "id": "dd280163",
   "metadata": {},
   "outputs": [],
   "source": [
    "async def chat_with_agent(user_input, thread=None):\n",
    "    \"\"\"Chat with the agent and display results with function call details.\"\"\"\n",
    "    \n",
    "    html_output = (\n",
    "        f\"<div style='margin-bottom:10px'>\"\n",
    "        f\"<div style='font-weight:bold'>User:</div>\"\n",
    "        f\"<div style='margin-left:20px'>{user_input}</div></div>\"\n",
    "    )\n",
    "\n",
    "    agent_name = None\n",
    "    full_response: list[str] = []\n",
    "    function_calls: list[str] = []\n",
    "\n",
    "    # Buffer to reconstruct streaming function call\n",
    "    current_function_name = None\n",
    "    argument_buffer = \"\"\n",
    "\n",
    "    try:\n",
    "        async for response in agent.invoke_stream(\n",
    "            messages=user_input,\n",
    "            thread=thread,\n",
    "        ):\n",
    "            thread = response.thread\n",
    "            agent_name = response.name\n",
    "            content_items = list(response.items)\n",
    "\n",
    "            for item in content_items:\n",
    "                if isinstance(item, FunctionCallContent):\n",
    "                    if item.function_name:\n",
    "                        current_function_name = item.function_name\n",
    "\n",
    "                    # Accumulate arguments (streamed in chunks)\n",
    "                    if isinstance(item.arguments, str):\n",
    "                        argument_buffer += item.arguments\n",
    "                elif isinstance(item, FunctionResultContent):\n",
    "                    # Finalize any pending function call before showing result\n",
    "                    if current_function_name:\n",
    "                        formatted_args = argument_buffer.strip()\n",
    "                        try:\n",
    "                            parsed_args = json.loads(formatted_args)\n",
    "                            formatted_args = json.dumps(parsed_args)\n",
    "                        except Exception:\n",
    "                            pass  # leave as raw string\n",
    "\n",
    "                        function_calls.append(f\"Calling function: {current_function_name}({formatted_args})\")\n",
    "                        current_function_name = None\n",
    "                        argument_buffer = \"\"\n",
    "\n",
    "                    function_calls.append(f\"\\nFunction Result:\\n\\n{item.result}\")\n",
    "                elif isinstance(item, StreamingTextContent) and item.text:\n",
    "                    full_response.append(item.text)\n",
    "\n",
    "        # Display function calls if any were made\n",
    "        if function_calls:\n",
    "            html_output += (\n",
    "                \"<div style='margin-bottom:10px'>\"\n",
    "                \"<details>\"\n",
    "                \"<summary style='cursor:pointer; font-weight:bold; color:#0066cc;'>MCP Tool Calls (click to expand)</summary>\"\n",
    "                \"<div style='margin:10px; padding:10px; background-color:#f8f8f8; \"\n",
    "                \"border:1px solid #ddd; border-radius:4px; white-space:pre-wrap; font-size:14px; color:#333;'>\"\n",
    "                f\"{chr(10).join(function_calls)}\"\n",
    "                \"</div></details></div>\"\n",
    "            )\n",
    "\n",
    "        html_output += (\n",
    "            \"<div style='margin-bottom:20px'>\"\n",
    "            f\"<div style='font-weight:bold'>{agent_name or 'Assistant'}:</div>\"\n",
    "            f\"<div style='margin-left:20px; white-space:pre-wrap'>{''.join(full_response)}</div></div><hr>\"\n",
    "        )\n",
    "\n",
    "        display(HTML(html_output))\n",
    "        return thread\n",
    "        \n",
    "    except Exception as e:\n",
    "        print(f\"Error during agent execution: {e}\")\n",
    "        return thread\n",
    "\n",
    "print(\"Agent interaction function ready!\")"
   ]
  },
  {
   "cell_type": "markdown",
   "id": "720d70e4",
   "metadata": {},
   "source": [
    "## Test the Agent\n",
    "\n",
    "Now let's test our MCP-enabled agent with some questions about Microsoft technologies and Azure services."
   ]
  },
  {
   "cell_type": "code",
   "execution_count": null,
   "id": "fc29e5c0",
   "metadata": {},
   "outputs": [],
   "source": [
    "# Test questions for the agent\n",
    "test_questions = [\n",
    "    #\"What are the best practices for Azure Functions development?\",\n",
    "    #\"How do I configure Azure App Service authentication?\",\n",
    "    \"What's the difference between Azure Storage accounts types?\"\n",
    "]\n",
    "\n",
    "# Run the conversation\n",
    "thread = None\n",
    "for question in test_questions:\n",
    "    thread = await chat_with_agent(question, thread)\n",
    "    print(\"\\n\" + \"=\"*80 + \"\\n\")  # Separator between questions"
   ]
  },
  {
   "cell_type": "markdown",
   "id": "a2a65a17",
   "metadata": {},
   "source": [
    "## Interactive Chat\n",
    "\n",
    "Use this cell to ask your own questions to the agent. The agent will search Microsoft Learn documentation to provide accurate, up-to-date answers."
   ]
  },
  {
   "cell_type": "code",
   "execution_count": null,
   "id": "d52e5fbd",
   "metadata": {},
   "outputs": [],
   "source": [
    "# Interactive chat - modify the question below\n",
    "user_question = \"How do I deploy a .NET application to Azure App Service?\"\n",
    "\n",
    "# Use the existing thread to maintain conversation context\n",
    "thread = await chat_with_agent(user_question, thread)"
   ]
  },
  {
   "cell_type": "markdown",
   "id": "b8d6158a",
   "metadata": {},
   "source": [
    "## Cleanup\n",
    "\n",
    "Clean up the MCP connection when done."
   ]
  },
  {
   "cell_type": "code",
   "execution_count": null,
   "id": "df4f327b",
   "metadata": {},
   "outputs": [],
   "source": [
    "# Clean up MCP connection\n",
    "try:\n",
    "    await mcp_plugin.close()\n",
    "    print(\"MCP Plugin closed successfully\")\n",
    "except Exception as e:\n",
    "    print(f\"Error closing MCP plugin: {e}\")"
   ]
  }
 ],
 "metadata": {
  "kernelspec": {
   "display_name": "base",
   "language": "python",
   "name": "python3"
  },
  "language_info": {
   "codemirror_mode": {
    "name": "ipython",
    "version": 3
   },
   "file_extension": ".py",
   "mimetype": "text/x-python",
   "name": "python",
   "nbconvert_exporter": "python",
   "pygments_lexer": "ipython3",
   "version": "3.12.4"
  }
 },
 "nbformat": 4,
 "nbformat_minor": 5
}
