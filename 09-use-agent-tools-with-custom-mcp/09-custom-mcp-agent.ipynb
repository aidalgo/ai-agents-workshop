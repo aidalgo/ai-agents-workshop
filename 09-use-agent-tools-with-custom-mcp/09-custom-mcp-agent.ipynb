{
 "cells": [
  {
   "cell_type": "markdown",
   "id": "04afd976",
   "metadata": {},
   "source": [
    "# Custom MCP Agent with Inventory Management\n",
    "\n",
    "This notebook demonstrates how to create an AI agent that can interact with custom Model Context Protocol (MCP) tools for inventory management using Semantic Kernel."
   ]
  },
  {
   "cell_type": "markdown",
   "id": "47c33f23",
   "metadata": {},
   "source": [
    "## Import the Needed Packages\n",
    "\n",
    "We'll import all the necessary libraries for creating our custom MCP-enabled agent."
   ]
  },
  {
   "cell_type": "code",
   "execution_count": null,
   "id": "6fff85bc",
   "metadata": {},
   "outputs": [],
   "source": [
    "import os\n",
    "import asyncio\n",
    "import json\n",
    "from dotenv import load_dotenv\n",
    "\n",
    "# Semantic Kernel imports\n",
    "from azure.identity import DefaultAzureCredential\n",
    "from semantic_kernel import Kernel\n",
    "from semantic_kernel.agents import ChatCompletionAgent, ChatHistoryAgentThread\n",
    "from semantic_kernel.connectors.ai.open_ai import AzureChatCompletion\n",
    "from semantic_kernel.contents import FunctionCallContent, FunctionResultContent, StreamingTextContent\n",
    "from semantic_kernel.connectors.mcp import MCPStdioPlugin\n",
    "\n",
    "from IPython.display import display, HTML"
   ]
  },
  {
   "cell_type": "markdown",
   "id": "aab00678",
   "metadata": {},
   "source": [
    "## Setting up Azure OpenAI Connection\n",
    "\n",
    "Configure the Azure OpenAI service using Azure AD authentication."
   ]
  },
  {
   "cell_type": "code",
   "execution_count": null,
   "id": "201e3851",
   "metadata": {},
   "outputs": [],
   "source": [
    "load_dotenv()\n",
    "\n",
    "# Option 1: Using API Key (recommended for development)\n",
    "chat_completion_service = AzureChatCompletion(\n",
    "    deployment_name=os.environ.get(\"AZURE_OPENAI_DEPLOYMENT_NAME\", \"gpt-4o-mini\"),\n",
    "    endpoint=os.environ.get(\"AZURE_OPENAI_ENDPOINT\"),\n",
    "    api_version=os.environ.get(\"AZURE_OPENAI_API_VERSION\", \"2024-02-01\"),\n",
    "    api_key=os.environ.get(\"AZURE_OPENAI_API_KEY\")\n",
    ")\n",
    "\n",
    "# Option 2: Using Azure AD Authentication (uncomment to use)\n",
    "# Create Azure credential \n",
    "credential = DefaultAzureCredential()\n",
    "\n",
    "# Create a token provider function\n",
    "def get_azure_ad_token():\n",
    "    \"\"\"Function to get Azure AD token for OpenAI.\"\"\"\n",
    "    token = credential.get_token(\"https://cognitiveservices.azure.com/.default\")\n",
    "    return token.token\n",
    "\n",
    "# chat_completion_service = AzureChatCompletion(\n",
    "#     deployment_name=os.environ.get(\"AZURE_OPENAI_DEPLOYMENT_NAME\", \"gpt-4o-mini\"),\n",
    "#     endpoint=os.environ.get(\"AZURE_OPENAI_ENDPOINT\"),\n",
    "#     api_version=os.environ.get(\"AZURE_OPENAI_API_VERSION\", \"2024-02-01\"),\n",
    "#     ad_token=get_azure_ad_token()\n",
    "\n",
    "print(\"Azure OpenAI service configured successfully!\")"
   ]
  },
  {
   "cell_type": "markdown",
   "id": "4016e045",
   "metadata": {},
   "source": [
    "## Configure Custom MCP Plugin\n",
    "\n",
    "Set up the Model Context Protocol plugin to connect to our custom inventory management server."
   ]
  },
  {
   "cell_type": "code",
   "execution_count": null,
   "id": "4b5706e0",
   "metadata": {},
   "outputs": [],
   "source": [
    "# Create MCP Plugin for stdio connection to our custom server\n",
    "# Note: name must follow pattern ^[0-9A-Za-z_]+$\n",
    "mcp_plugin = MCPStdioPlugin(\n",
    "    name=\"inventory_server\",\n",
    "    command=\"python\",\n",
    "    args=[\"server.py\"],\n",
    "    description=\"Inventory management tools\"\n",
    ")\n",
    "\n",
    "# Create kernel\n",
    "kernel = Kernel()\n",
    "\n",
    "print(f\"MCP Plugin configured for custom inventory server\")"
   ]
  },
  {
   "cell_type": "markdown",
   "id": "cbba268e",
   "metadata": {},
   "source": [
    "## Creating the Custom MCP Agent\n",
    "\n",
    "Create an AI agent with access to our custom inventory management tools through MCP."
   ]
  },
  {
   "cell_type": "code",
   "execution_count": null,
   "id": "8e1af4a7",
   "metadata": {},
   "outputs": [],
   "source": [
    "# Create agent with MCP plugin via kernel\n",
    "agent = ChatCompletionAgent(\n",
    "    service=chat_completion_service,\n",
    "    kernel=kernel,\n",
    "    name=\"Inventory-Management-Agent\",\n",
    "    instructions=\"\"\"\n",
    "    You are an inventory assistant with access to inventory management tools through MCP.\n",
    "    \n",
    "    Here are some general guidelines:\n",
    "    - Recommend restock if item inventory < 10 and weekly sales > 15\n",
    "    - Recommend clearance if item inventory > 20 and weekly sales < 5\n",
    "    \n",
    "    Use the available MCP tools to get inventory levels, weekly sales data, and product details\n",
    "    to help answer user questions about inventory management. Always provide specific recommendations\n",
    "    based on the data you retrieve.\n",
    "    \n",
    "    Available tools:\n",
    "    - get_inventory_levels: Returns current inventory for all products\n",
    "    - get_weekly_sales: Returns number of units sold last week\n",
    "    - get_product_details: Returns details for a specific product\n",
    "    \n",
    "    When providing inventory analysis, always show the data you retrieved and explain your reasoning.\n",
    "    \"\"\"\n",
    ")\n",
    "\n",
    "print(f\"Created agent: {agent.name}\")"
   ]
  },
  {
   "cell_type": "markdown",
   "id": "031b650c",
   "metadata": {},
   "source": [
    "## Initialize Custom MCP Connection\n",
    "\n",
    "Connect to our custom MCP server and load available tools."
   ]
  },
  {
   "cell_type": "code",
   "execution_count": null,
   "id": "8ddbf7b3",
   "metadata": {},
   "outputs": [],
   "source": [
    "async def initialize_custom_mcp():\n",
    "    \"\"\"Initialize custom MCP plugin connection and load tools.\"\"\"\n",
    "    try:\n",
    "        # Connect to MCP server\n",
    "        await mcp_plugin.connect()\n",
    "        print(f\"✓ Custom MCP Plugin connected successfully\")\n",
    "        \n",
    "        # Load tools and prompts\n",
    "        await mcp_plugin.load_tools()\n",
    "        print(\"✓ Custom MCP tools loaded\")\n",
    "        \n",
    "        # Add the MCP plugin to the kernel\n",
    "        kernel.add_plugin(mcp_plugin)\n",
    "        print(f\"✓ Custom MCP plugin added to kernel\")\n",
    "        \n",
    "        # Show available functions\n",
    "        print(\"\\nAvailable custom MCP tools:\")\n",
    "        for plugin_name, plugin in kernel.plugins.items():\n",
    "            for function_name, function in plugin.functions.items():\n",
    "                print(f\"  - {function_name}: {function.description}\")\n",
    "        \n",
    "        return True\n",
    "        \n",
    "    except Exception as e:\n",
    "        print(f\"Custom MCP Plugin setup error: {e}\")\n",
    "        import traceback\n",
    "        traceback.print_exc()\n",
    "        return False\n",
    "\n",
    "# Initialize the custom MCP connection\n",
    "mcp_initialized = await initialize_custom_mcp()\n",
    "print(f\"\\nCustom MCP initialization {'successful' if mcp_initialized else 'failed'}\")"
   ]
  },
  {
   "cell_type": "markdown",
   "id": "8ec42f0f",
   "metadata": {},
   "source": [
    "## Agent Interaction Function\n",
    "\n",
    "Create a function to handle user interactions with the agent, displaying both the conversation and function calls."
   ]
  },
  {
   "cell_type": "code",
   "execution_count": null,
   "id": "f5f2fe67",
   "metadata": {},
   "outputs": [],
   "source": [
    "async def chat_with_agent(user_input, thread=None):\n",
    "    \"\"\"Chat with the agent and display results with function call details.\"\"\"\n",
    "    \n",
    "    html_output = (\n",
    "        f\"<div style='margin-bottom:10px'>\"\n",
    "        f\"<div style='font-weight:bold'>User:</div>\"\n",
    "        f\"<div style='margin-left:20px'>{user_input}</div></div>\"\n",
    "    )\n",
    "\n",
    "    agent_name = None\n",
    "    full_response: list[str] = []\n",
    "    function_calls: list[str] = []\n",
    "\n",
    "    # Buffer to reconstruct streaming function call\n",
    "    current_function_name = None\n",
    "    argument_buffer = \"\"\n",
    "\n",
    "    try:\n",
    "        async for response in agent.invoke_stream(\n",
    "            messages=user_input,\n",
    "            thread=thread,\n",
    "        ):\n",
    "            thread = response.thread\n",
    "            agent_name = response.name\n",
    "            content_items = list(response.items)\n",
    "\n",
    "            for item in content_items:\n",
    "                if isinstance(item, FunctionCallContent):\n",
    "                    if item.function_name:\n",
    "                        current_function_name = item.function_name\n",
    "\n",
    "                    # Accumulate arguments (streamed in chunks)\n",
    "                    if isinstance(item.arguments, str):\n",
    "                        argument_buffer += item.arguments\n",
    "                elif isinstance(item, FunctionResultContent):\n",
    "                    # Finalize any pending function call before showing result\n",
    "                    if current_function_name:\n",
    "                        formatted_args = argument_buffer.strip()\n",
    "                        try:\n",
    "                            parsed_args = json.loads(formatted_args) if formatted_args else {}\n",
    "                            formatted_args = json.dumps(parsed_args)\n",
    "                        except Exception:\n",
    "                            pass  # leave as raw string\n",
    "\n",
    "                        function_calls.append(f\"🔧 Calling function: {current_function_name}({formatted_args})\")\n",
    "                        current_function_name = None\n",
    "                        argument_buffer = \"\"\n",
    "\n",
    "                    function_calls.append(f\"📊 Function Result:\\n{item.result}\")\n",
    "                elif isinstance(item, StreamingTextContent) and item.text:\n",
    "                    full_response.append(item.text)\n",
    "\n",
    "        # Display function calls if any were made\n",
    "        if function_calls:\n",
    "            html_output += (\n",
    "                \"<div style='margin-bottom:10px'>\"\n",
    "                \"<details>\"\n",
    "                \"<summary style='cursor:pointer; font-weight:bold; color:#0066cc;'>MCP Tool Calls (click to expand)</summary>\"\n",
    "                \"<div style='margin:10px; padding:10px; background-color:#f8f8f8; \"\n",
    "                \"border:1px solid #ddd; border-radius:4px; white-space:pre-wrap; font-size:14px; color:#333;'>\"\n",
    "                f\"{chr(10).join(function_calls)}\"\n",
    "                \"</div></details></div>\"\n",
    "            )\n",
    "\n",
    "        html_output += (\n",
    "            \"<div style='margin-bottom:20px'>\"\n",
    "            f\"<div style='font-weight:bold'>{agent_name or 'Assistant'}:</div>\"\n",
    "            f\"<div style='margin-left:20px; white-space:pre-wrap'>{''.join(full_response)}</div></div><hr>\"\n",
    "        )\n",
    "\n",
    "        display(HTML(html_output))\n",
    "        return thread\n",
    "        \n",
    "    except Exception as e:\n",
    "        print(f\"Error during agent execution: {e}\")\n",
    "        import traceback\n",
    "        traceback.print_exc()\n",
    "        return thread\n",
    "\n",
    "print(\"Agent interaction function ready!\")"
   ]
  },
  {
   "cell_type": "markdown",
   "id": "c73208db",
   "metadata": {},
   "source": [
    "## Test the Inventory Agent\n",
    "\n",
    "Now let's test our custom MCP-enabled agent with some inventory management questions."
   ]
  },
  {
   "cell_type": "code",
   "execution_count": null,
   "id": "5be2bac3",
   "metadata": {},
   "outputs": [],
   "source": [
    "# Test questions for the inventory agent\n",
    "test_questions = [\n",
    "    #\"What are the current inventory levels for all products?\",\n",
    "    #\"Which products should I restock based on current inventory and sales?\",\n",
    "    \"Show me the weekly sales data and identify slow-moving items\"\n",
    "]\n",
    "\n",
    "# Run the conversation\n",
    "thread = None\n",
    "for question in test_questions:\n",
    "    thread = await chat_with_agent(question, thread)\n",
    "    print(\"\\n\" + \"=\"*80 + \"\\n\")  # Separator between questions"
   ]
  },
  {
   "cell_type": "code",
   "execution_count": null,
   "id": "0eceaf30",
   "metadata": {},
   "outputs": [],
   "source": [
    "# Detailed analysis question\n",
    "detailed_question = \"Can you give me detailed information about Moisturizer including its product details, current inventory, and sales performance? Should I take any action?\"\n",
    "thread = None\n",
    "thread = await chat_with_agent(detailed_question, thread)"
   ]
  },
  {
   "cell_type": "markdown",
   "id": "c33cd48e",
   "metadata": {},
   "source": [
    "## Interactive Chat\n",
    "\n",
    "Use this cell to ask your own questions to the inventory agent. The agent will use the custom MCP tools to provide accurate inventory management insights."
   ]
  },
  {
   "cell_type": "code",
   "execution_count": null,
   "id": "05c799ac",
   "metadata": {},
   "outputs": [],
   "source": [
    "# Interactive chat - modify the question below\n",
    "user_question = \"What products are performing well and which ones need attention?\"\n",
    "\n",
    "# Use the existing thread to maintain conversation context\n",
    "thread = await chat_with_agent(user_question, thread)"
   ]
  },
  {
   "cell_type": "markdown",
   "id": "728d2f22",
   "metadata": {},
   "source": [
    "## Custom Inventory Query\n",
    "\n",
    "Create your own custom query to test the agent's capabilities."
   ]
  },
  {
   "cell_type": "code",
   "execution_count": null,
   "id": "b29cfb54",
   "metadata": {},
   "outputs": [],
   "source": [
    "# Custom query - replace with your own question\n",
    "custom_question = \"Give me a complete inventory report with recommendations for each product category\"\n",
    "\n",
    "thread = await chat_with_agent(custom_question, thread)"
   ]
  },
  {
   "cell_type": "markdown",
   "id": "627dc0c0",
   "metadata": {},
   "source": [
    "## View Available MCP Tools\n",
    "\n",
    "Let's examine what tools are available from our custom MCP server."
   ]
  },
  {
   "cell_type": "code",
   "execution_count": null,
   "id": "a28d4851",
   "metadata": {},
   "outputs": [],
   "source": [
    "# Display available tools and their descriptions\n",
    "print(\"Available Custom MCP Tools:\")\n",
    "print(\"=\" * 50)\n",
    "\n",
    "for plugin_name, plugin in kernel.plugins.items():\n",
    "    print(f\"\\nPlugin: {plugin_name}\")\n",
    "    for function_name, function in plugin.functions.items():\n",
    "        print(f\"  🔧 {function_name}\")\n",
    "        print(f\"     Description: {function.description}\")\n",
    "        print(f\"     Parameters: {[param.name for param in function.parameters]}\")"
   ]
  },
  {
   "cell_type": "markdown",
   "id": "8f8e5b0e",
   "metadata": {},
   "source": [
    "## Cleanup\n",
    "\n",
    "Clean up the MCP connection when done."
   ]
  },
  {
   "cell_type": "code",
   "execution_count": null,
   "id": "51e66196",
   "metadata": {},
   "outputs": [],
   "source": [
    "# Clean up MCP connection\n",
    "try:\n",
    "    await mcp_plugin.close()\n",
    "    print(\"✓ Custom MCP Plugin closed successfully\")\n",
    "except Exception as e:\n",
    "    print(f\"Error closing custom MCP plugin: {e}\")"
   ]
  }
 ],
 "metadata": {
  "kernelspec": {
   "display_name": "base",
   "language": "python",
   "name": "python3"
  },
  "language_info": {
   "codemirror_mode": {
    "name": "ipython",
    "version": 3
   },
   "file_extension": ".py",
   "mimetype": "text/x-python",
   "name": "python",
   "nbconvert_exporter": "python",
   "pygments_lexer": "ipython3",
   "version": "3.12.4"
  }
 },
 "nbformat": 4,
 "nbformat_minor": 5
}
