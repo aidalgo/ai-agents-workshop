{
 "cells": [
  {
   "cell_type": "markdown",
   "id": "04afd976",
   "metadata": {},
   "source": [
    "# Custom MCP Agent with Inventory Management\n",
    "\n",
    "This notebook demonstrates how to create an AI agent that can interact with custom Model Context Protocol (MCP) tools for inventory management using Semantic Kernel."
   ]
  },
  {
   "cell_type": "markdown",
   "id": "47c33f23",
   "metadata": {},
   "source": [
    "## Import the Needed Packages\n",
    "\n",
    "We'll import all the necessary libraries for creating our custom MCP-enabled agent."
   ]
  },
  {
   "cell_type": "code",
   "execution_count": 2,
   "id": "6fff85bc",
   "metadata": {},
   "outputs": [],
   "source": [
    "import os\n",
    "import asyncio\n",
    "import json\n",
    "from dotenv import load_dotenv\n",
    "\n",
    "# Semantic Kernel imports\n",
    "from azure.identity import DefaultAzureCredential\n",
    "from semantic_kernel import Kernel\n",
    "from semantic_kernel.agents import ChatCompletionAgent, ChatHistoryAgentThread\n",
    "from semantic_kernel.connectors.ai.open_ai import AzureChatCompletion\n",
    "from semantic_kernel.contents import FunctionCallContent, FunctionResultContent, StreamingTextContent\n",
    "from semantic_kernel.connectors.mcp import MCPStdioPlugin\n",
    "\n",
    "from IPython.display import display, HTML"
   ]
  },
  {
   "cell_type": "markdown",
   "id": "aab00678",
   "metadata": {},
   "source": [
    "## Setting up Azure OpenAI Connection\n",
    "\n",
    "Configure the Azure OpenAI service using Azure AD authentication."
   ]
  },
  {
   "cell_type": "code",
   "execution_count": 14,
   "id": "201e3851",
   "metadata": {},
   "outputs": [
    {
     "name": "stdout",
     "output_type": "stream",
     "text": [
      "Azure OpenAI service configured successfully!\n"
     ]
    }
   ],
   "source": [
    "# Load environment variables from .env file\n",
    "load_dotenv()\n",
    "\n",
    "# Create Azure credential\n",
    "credential = DefaultAzureCredential()\n",
    "\n",
    "# Create a token provider function\n",
    "def get_azure_ad_token():\n",
    "    \"\"\"Function to get Azure AD token for OpenAI.\"\"\"\n",
    "    token = credential.get_token(\"https://cognitiveservices.azure.com/.default\")\n",
    "    return token.token\n",
    "\n",
    "# Create an AI Service using AzureChatCompletion with DefaultAzureCredential\n",
    "chat_completion_service = AzureChatCompletion(\n",
    "    deployment_name=os.environ.get(\"AZURE_OPENAI_DEPLOYMENT_NAME\", \"gpt-4o\"),\n",
    "    endpoint=os.environ.get(\"AZURE_OPENAI_ENDPOINT\"),\n",
    "    api_version=os.environ.get(\"AZURE_OPENAI_API_VERSION\", \"2025-01-01-preview\"),\n",
    "    ad_token_provider=get_azure_ad_token\n",
    ")\n",
    "\n",
    "print(\"Azure OpenAI service configured successfully!\")"
   ]
  },
  {
   "cell_type": "markdown",
   "id": "4016e045",
   "metadata": {},
   "source": [
    "## Configure Custom MCP Plugin\n",
    "\n",
    "Set up the Model Context Protocol plugin to connect to our custom inventory management server."
   ]
  },
  {
   "cell_type": "code",
   "execution_count": 4,
   "id": "4b5706e0",
   "metadata": {},
   "outputs": [
    {
     "name": "stdout",
     "output_type": "stream",
     "text": [
      "MCP Plugin configured for custom inventory server\n"
     ]
    }
   ],
   "source": [
    "# Create MCP Plugin for stdio connection to our custom server\n",
    "# Note: name must follow pattern ^[0-9A-Za-z_]+$\n",
    "mcp_plugin = MCPStdioPlugin(\n",
    "    name=\"inventory_server\",\n",
    "    command=\"python\",\n",
    "    args=[\"server.py\"],\n",
    "    description=\"Inventory management tools\"\n",
    ")\n",
    "\n",
    "# Create kernel\n",
    "kernel = Kernel()\n",
    "\n",
    "print(f\"MCP Plugin configured for custom inventory server\")"
   ]
  },
  {
   "cell_type": "markdown",
   "id": "cbba268e",
   "metadata": {},
   "source": [
    "## Creating the Custom MCP Agent\n",
    "\n",
    "Create an AI agent with access to our custom inventory management tools through MCP."
   ]
  },
  {
   "cell_type": "code",
   "execution_count": 5,
   "id": "8e1af4a7",
   "metadata": {},
   "outputs": [
    {
     "name": "stdout",
     "output_type": "stream",
     "text": [
      "Created agent: Inventory-Management-Agent\n"
     ]
    }
   ],
   "source": [
    "# Create agent with MCP plugin via kernel\n",
    "agent = ChatCompletionAgent(\n",
    "    service=chat_completion_service,\n",
    "    kernel=kernel,\n",
    "    name=\"Inventory-Management-Agent\",\n",
    "    instructions=\"\"\"\n",
    "    You are an inventory assistant with access to inventory management tools through MCP.\n",
    "    \n",
    "    Here are some general guidelines:\n",
    "    - Recommend restock if item inventory < 10 and weekly sales > 15\n",
    "    - Recommend clearance if item inventory > 20 and weekly sales < 5\n",
    "    \n",
    "    Use the available MCP tools to get inventory levels, weekly sales data, and product details\n",
    "    to help answer user questions about inventory management. Always provide specific recommendations\n",
    "    based on the data you retrieve.\n",
    "    \n",
    "    Available tools:\n",
    "    - get_inventory_levels: Returns current inventory for all products\n",
    "    - get_weekly_sales: Returns number of units sold last week\n",
    "    - get_product_details: Returns details for a specific product\n",
    "    \n",
    "    When providing inventory analysis, always show the data you retrieved and explain your reasoning.\n",
    "    \"\"\"\n",
    ")\n",
    "\n",
    "print(f\"Created agent: {agent.name}\")"
   ]
  },
  {
   "cell_type": "markdown",
   "id": "031b650c",
   "metadata": {},
   "source": [
    "## Initialize Custom MCP Connection\n",
    "\n",
    "Connect to our custom MCP server and load available tools."
   ]
  },
  {
   "cell_type": "code",
   "execution_count": 6,
   "id": "8ddbf7b3",
   "metadata": {},
   "outputs": [
    {
     "name": "stdout",
     "output_type": "stream",
     "text": [
      "✓ Custom MCP Plugin connected successfully\n",
      "✓ Custom MCP tools loaded\n",
      "✓ Custom MCP plugin added to kernel\n",
      "\n",
      "Available custom MCP tools:\n",
      "  - get_inventory_levels: Returns current inventory for all products.\n",
      "  - get_product_details: Returns details for a specific product.\n",
      "  - get_weekly_sales: Returns number of units sold last week.\n",
      "\n",
      "Custom MCP initialization successful\n"
     ]
    }
   ],
   "source": [
    "async def initialize_custom_mcp():\n",
    "    \"\"\"Initialize custom MCP plugin connection and load tools.\"\"\"\n",
    "    try:\n",
    "        # Connect to MCP server\n",
    "        await mcp_plugin.connect()\n",
    "        print(f\"✓ Custom MCP Plugin connected successfully\")\n",
    "        \n",
    "        # Load tools and prompts\n",
    "        await mcp_plugin.load_tools()\n",
    "        print(\"✓ Custom MCP tools loaded\")\n",
    "        \n",
    "        # Add the MCP plugin to the kernel\n",
    "        kernel.add_plugin(mcp_plugin)\n",
    "        print(f\"✓ Custom MCP plugin added to kernel\")\n",
    "        \n",
    "        # Show available functions\n",
    "        print(\"\\nAvailable custom MCP tools:\")\n",
    "        for plugin_name, plugin in kernel.plugins.items():\n",
    "            for function_name, function in plugin.functions.items():\n",
    "                print(f\"  - {function_name}: {function.description}\")\n",
    "        \n",
    "        return True\n",
    "        \n",
    "    except Exception as e:\n",
    "        print(f\"Custom MCP Plugin setup error: {e}\")\n",
    "        import traceback\n",
    "        traceback.print_exc()\n",
    "        return False\n",
    "\n",
    "# Initialize the custom MCP connection\n",
    "mcp_initialized = await initialize_custom_mcp()\n",
    "print(f\"\\nCustom MCP initialization {'successful' if mcp_initialized else 'failed'}\")"
   ]
  },
  {
   "cell_type": "markdown",
   "id": "8ec42f0f",
   "metadata": {},
   "source": [
    "## Agent Interaction Function\n",
    "\n",
    "Create a function to handle user interactions with the agent, displaying both the conversation and function calls."
   ]
  },
  {
   "cell_type": "code",
   "execution_count": 7,
   "id": "f5f2fe67",
   "metadata": {},
   "outputs": [
    {
     "name": "stdout",
     "output_type": "stream",
     "text": [
      "Agent interaction function ready!\n"
     ]
    }
   ],
   "source": [
    "async def chat_with_agent(user_input, thread=None):\n",
    "    \"\"\"Chat with the agent and display results with function call details.\"\"\"\n",
    "    \n",
    "    html_output = (\n",
    "        f\"<div style='margin-bottom:10px'>\"\n",
    "        f\"<div style='font-weight:bold'>User:</div>\"\n",
    "        f\"<div style='margin-left:20px'>{user_input}</div></div>\"\n",
    "    )\n",
    "\n",
    "    agent_name = None\n",
    "    full_response: list[str] = []\n",
    "    function_calls: list[str] = []\n",
    "\n",
    "    # Buffer to reconstruct streaming function call\n",
    "    current_function_name = None\n",
    "    argument_buffer = \"\"\n",
    "\n",
    "    try:\n",
    "        async for response in agent.invoke_stream(\n",
    "            messages=user_input,\n",
    "            thread=thread,\n",
    "        ):\n",
    "            thread = response.thread\n",
    "            agent_name = response.name\n",
    "            content_items = list(response.items)\n",
    "\n",
    "            for item in content_items:\n",
    "                if isinstance(item, FunctionCallContent):\n",
    "                    if item.function_name:\n",
    "                        current_function_name = item.function_name\n",
    "\n",
    "                    # Accumulate arguments (streamed in chunks)\n",
    "                    if isinstance(item.arguments, str):\n",
    "                        argument_buffer += item.arguments\n",
    "                elif isinstance(item, FunctionResultContent):\n",
    "                    # Finalize any pending function call before showing result\n",
    "                    if current_function_name:\n",
    "                        formatted_args = argument_buffer.strip()\n",
    "                        try:\n",
    "                            parsed_args = json.loads(formatted_args) if formatted_args else {}\n",
    "                            formatted_args = json.dumps(parsed_args)\n",
    "                        except Exception:\n",
    "                            pass  # leave as raw string\n",
    "\n",
    "                        function_calls.append(f\"🔧 Calling function: {current_function_name}({formatted_args})\")\n",
    "                        current_function_name = None\n",
    "                        argument_buffer = \"\"\n",
    "\n",
    "                    function_calls.append(f\"📊 Function Result:\\n{item.result}\")\n",
    "                elif isinstance(item, StreamingTextContent) and item.text:\n",
    "                    full_response.append(item.text)\n",
    "\n",
    "        # Display function calls if any were made\n",
    "        if function_calls:\n",
    "            html_output += (\n",
    "                \"<div style='margin-bottom:10px'>\"\n",
    "                \"<details>\"\n",
    "                \"<summary style='cursor:pointer; font-weight:bold; color:#0066cc;'>MCP Tool Calls (click to expand)</summary>\"\n",
    "                \"<div style='margin:10px; padding:10px; background-color:#f8f8f8; \"\n",
    "                \"border:1px solid #ddd; border-radius:4px; white-space:pre-wrap; font-size:14px; color:#333;'>\"\n",
    "                f\"{chr(10).join(function_calls)}\"\n",
    "                \"</div></details></div>\"\n",
    "            )\n",
    "\n",
    "        html_output += (\n",
    "            \"<div style='margin-bottom:20px'>\"\n",
    "            f\"<div style='font-weight:bold'>{agent_name or 'Assistant'}:</div>\"\n",
    "            f\"<div style='margin-left:20px; white-space:pre-wrap'>{''.join(full_response)}</div></div><hr>\"\n",
    "        )\n",
    "\n",
    "        display(HTML(html_output))\n",
    "        return thread\n",
    "        \n",
    "    except Exception as e:\n",
    "        print(f\"Error during agent execution: {e}\")\n",
    "        import traceback\n",
    "        traceback.print_exc()\n",
    "        return thread\n",
    "\n",
    "print(\"Agent interaction function ready!\")"
   ]
  },
  {
   "cell_type": "markdown",
   "id": "c73208db",
   "metadata": {},
   "source": [
    "## Test the Inventory Agent\n",
    "\n",
    "Now let's test our custom MCP-enabled agent with some inventory management questions."
   ]
  },
  {
   "cell_type": "code",
   "execution_count": 8,
   "id": "5be2bac3",
   "metadata": {},
   "outputs": [
    {
     "data": {
      "text/html": [
       "<div style='margin-bottom:10px'><div style='font-weight:bold'>User:</div><div style='margin-left:20px'>What are the current inventory levels for all products?</div></div><div style='margin-bottom:20px'><div style='font-weight:bold'>Inventory-Management-Agent:</div><div style='margin-left:20px; white-space:pre-wrap'>The current inventory levels for all products are as follows:\n",
       "\n",
       "- Moisturizer: 6\n",
       "- Shampoo: 8\n",
       "- Body Spray: 28\n",
       "- Hair Gel: 5\n",
       "- Lip Balm: 12\n",
       "- Skin Serum: 9\n",
       "- Cleanser: 30\n",
       "- Conditioner: 3\n",
       "- Setting Powder: 17\n",
       "- Dry Shampoo: 45 \n",
       "\n",
       "If you need further analysis or recommendations about any of these products, please let me know!</div></div><hr>"
      ],
      "text/plain": [
       "<IPython.core.display.HTML object>"
      ]
     },
     "metadata": {},
     "output_type": "display_data"
    },
    {
     "name": "stdout",
     "output_type": "stream",
     "text": [
      "\n",
      "================================================================================\n",
      "\n"
     ]
    },
    {
     "data": {
      "text/html": [
       "<div style='margin-bottom:10px'><div style='font-weight:bold'>User:</div><div style='margin-left:20px'>Which products should I restock based on current inventory and sales?</div></div><div style='margin-bottom:20px'><div style='font-weight:bold'>Inventory-Management-Agent:</div><div style='margin-left:20px; white-space:pre-wrap'>Here are the current inventory levels along with the weekly sales of each product:\n",
       "\n",
       "1. **Moisturizer**\n",
       "   - Inventory: 6\n",
       "   - Weekly Sales: 22\n",
       "   - Recommendation: **Restock** (Inventory is low and sales are high)\n",
       "\n",
       "2. **Shampoo**\n",
       "   - Inventory: 8\n",
       "   - Weekly Sales: 18\n",
       "   - Recommendation: **Restock** (Inventory is low and sales are high)\n",
       "\n",
       "3. **Body Spray**\n",
       "   - Inventory: 28\n",
       "   - Weekly Sales: 3\n",
       "\n",
       "4. **Hair Gel**\n",
       "   - Inventory: 5\n",
       "   - Weekly Sales: 2\n",
       "\n",
       "5. **Lip Balm**\n",
       "   - Inventory: 12\n",
       "   - Weekly Sales: 14\n",
       "\n",
       "6. **Skin Serum**\n",
       "   - Inventory: 9\n",
       "   - Weekly Sales: 19\n",
       "   - Recommendation: **Restock** (Inventory is low and sales are high)\n",
       "\n",
       "7. **Cleanser**\n",
       "   - Inventory: 30\n",
       "   - Weekly Sales: 4\n",
       "\n",
       "8. **Conditioner**\n",
       "   - Inventory: 3\n",
       "   - Weekly Sales: 1\n",
       "\n",
       "9. **Setting Powder**\n",
       "   - Inventory: 17\n",
       "   - Weekly Sales: 13\n",
       "\n",
       "10. **Dry Shampoo**\n",
       "    - Inventory: 45\n",
       "    - Weekly Sales: 17\n",
       "\n",
       "Based on the data, I recommend restocking the following products:\n",
       "- Moisturizer\n",
       "- Shampoo\n",
       "- Skin Serum\n",
       "\n",
       "These have low inventory levels and high weekly sales, suggesting a need for replenishment.</div></div><hr>"
      ],
      "text/plain": [
       "<IPython.core.display.HTML object>"
      ]
     },
     "metadata": {},
     "output_type": "display_data"
    },
    {
     "name": "stdout",
     "output_type": "stream",
     "text": [
      "\n",
      "================================================================================\n",
      "\n"
     ]
    },
    {
     "data": {
      "text/html": [
       "<div style='margin-bottom:10px'><div style='font-weight:bold'>User:</div><div style='margin-left:20px'>Show me the weekly sales data and identify slow-moving items</div></div><div style='margin-bottom:20px'><div style='font-weight:bold'>Inventory-Management-Agent:</div><div style='margin-left:20px; white-space:pre-wrap'>Here are the weekly sales numbers for all products:\n",
       "\n",
       "- **Moisturizer**: 22 units\n",
       "- **Shampoo**: 18 units\n",
       "- **Body Spray**: 3 units\n",
       "- **Hair Gel**: 2 units\n",
       "- **Lip Balm**: 14 units\n",
       "- **Skin Serum**: 19 units\n",
       "- **Cleanser**: 4 units\n",
       "- **Conditioner**: 1 unit\n",
       "- **Setting Powder**: 13 units\n",
       "- **Dry Shampoo**: 17 units\n",
       "\n",
       "Based on this data, the slow-moving items (products with weekly sales less than 5 units) are as follows:\n",
       "\n",
       "1. **Body Spray**\n",
       "   - Weekly Sales: 3\n",
       "   - Inventory: 28\n",
       "   - Recommendation: **Consider Clearance** (High inventory but low sales)\n",
       "\n",
       "2. **Hair Gel**\n",
       "   - Weekly Sales: 2\n",
       "   - Inventory: 5\n",
       "\n",
       "3. **Cleanser**\n",
       "   - Weekly Sales: 4\n",
       "   - Inventory: 30\n",
       "   - Recommendation: **Consider Clearance** (High inventory but low sales)\n",
       "\n",
       "4. **Conditioner**\n",
       "   - Weekly Sales: 1\n",
       "\n",
       "These items might require promotional efforts or clearance to free up inventory space, especially those with higher inventory levels like Body Spray and Cleanser.</div></div><hr>"
      ],
      "text/plain": [
       "<IPython.core.display.HTML object>"
      ]
     },
     "metadata": {},
     "output_type": "display_data"
    },
    {
     "name": "stdout",
     "output_type": "stream",
     "text": [
      "\n",
      "================================================================================\n",
      "\n"
     ]
    }
   ],
   "source": [
    "# Test questions for the inventory agent\n",
    "test_questions = [\n",
    "    #\"What are the current inventory levels for all products?\",\n",
    "    #\"Which products should I restock based on current inventory and sales?\",\n",
    "    \"Show me the weekly sales data and identify slow-moving items\"\n",
    "]\n",
    "\n",
    "# Run the conversation\n",
    "thread = None\n",
    "for question in test_questions:\n",
    "    thread = await chat_with_agent(question, thread)\n",
    "    print(\"\\n\" + \"=\"*80 + \"\\n\")  # Separator between questions"
   ]
  },
  {
   "cell_type": "code",
   "execution_count": 9,
   "id": "0eceaf30",
   "metadata": {},
   "outputs": [
    {
     "data": {
      "text/html": [
       "<div style='margin-bottom:10px'><div style='font-weight:bold'>User:</div><div style='margin-left:20px'>Can you give me detailed information about Moisturizer including its product details, current inventory, and sales performance? Should I take any action?</div></div><div style='margin-bottom:20px'><div style='font-weight:bold'>Inventory-Management-Agent:</div><div style='margin-left:20px; white-space:pre-wrap'>Here is the detailed information about the **Moisturizer**:\n",
       "\n",
       "### Product Details:\n",
       "- **Price**: $15.99\n",
       "- **Category**: Skincare\n",
       "- **Brand**: Glow\n",
       "\n",
       "### Current Inventory and Sales Performance:\n",
       "- **Current Inventory Level**: 6 units\n",
       "- **Weekly Sales**: 22 units\n",
       "\n",
       "### Analysis and Recommendation:\n",
       "- **Action**: **Restock**\n",
       "- **Reason**: The moisturizer has a low inventory level of 6 units, while the weekly sales are high at 22 units. This indicates strong demand and a need for replenishment to maintain stock and avoid potential stockouts.\n",
       "\n",
       "Please consider ordering additional stock to meet the ongoing demand.</div></div><hr>"
      ],
      "text/plain": [
       "<IPython.core.display.HTML object>"
      ]
     },
     "metadata": {},
     "output_type": "display_data"
    }
   ],
   "source": [
    "# Detailed analysis question\n",
    "detailed_question = \"Can you give me detailed information about Moisturizer including its product details, current inventory, and sales performance? Should I take any action?\"\n",
    "thread = None\n",
    "thread = await chat_with_agent(detailed_question, thread)"
   ]
  },
  {
   "cell_type": "markdown",
   "id": "c33cd48e",
   "metadata": {},
   "source": [
    "## Interactive Chat\n",
    "\n",
    "Use this cell to ask your own questions to the inventory agent. The agent will use the custom MCP tools to provide accurate inventory management insights."
   ]
  },
  {
   "cell_type": "code",
   "execution_count": 10,
   "id": "05c799ac",
   "metadata": {},
   "outputs": [
    {
     "data": {
      "text/html": [
       "<div style='margin-bottom:10px'><div style='font-weight:bold'>User:</div><div style='margin-left:20px'>What products are performing well and which ones need attention?</div></div><div style='margin-bottom:20px'><div style='font-weight:bold'>Inventory-Management-Agent:</div><div style='margin-left:20px; white-space:pre-wrap'>To identify the products that are performing well and those that need attention, let's review the inventory levels and weekly sales for all products:\n",
       "\n",
       "### Products Performing Well:\n",
       "These are products with strong sales and sufficient inventory.\n",
       "\n",
       "1. **Lip Balm**\n",
       "   - Inventory: 12\n",
       "   - Weekly Sales: 14\n",
       "\n",
       "2. **Dry Shampoo**\n",
       "   - Inventory: 45\n",
       "   - Weekly Sales: 17\n",
       "\n",
       "### Products Needing Attention:\n",
       "\n",
       "#### Need **Restock**:\n",
       "These products have low inventory and high sales, indicating a strong demand that requires replenishment.\n",
       "1. **Moisturizer**\n",
       "   - Inventory: 6\n",
       "   - Weekly Sales: 22\n",
       "2. **Shampoo**\n",
       "   - Inventory: 8\n",
       "   - Weekly Sales: 18\n",
       "3. **Skin Serum**\n",
       "   - Inventory: 9\n",
       "   - Weekly Sales: 19\n",
       "\n",
       "#### Consider **Clearance**:\n",
       "These products have high inventory but low sales, suggesting potential oversupply.\n",
       "1. **Body Spray**\n",
       "   - Inventory: 28\n",
       "   - Weekly Sales: 3\n",
       "2. **Cleanser**\n",
       "   - Inventory: 30\n",
       "   - Weekly Sales: 4\n",
       "\n",
       "#### Slow-Moving Items:\n",
       "These products have both low sales and inventory, indicating a slower turnover.\n",
       "1. **Hair Gel**\n",
       "   - Inventory: 5\n",
       "   - Weekly Sales: 2\n",
       "2. **Conditioner**\n",
       "   - Inventory: 3\n",
       "   - Weekly Sales: 1\n",
       "\n",
       "By addressing the needs of these products, you can optimize your inventory for effectively.</div></div><hr>"
      ],
      "text/plain": [
       "<IPython.core.display.HTML object>"
      ]
     },
     "metadata": {},
     "output_type": "display_data"
    }
   ],
   "source": [
    "# Interactive chat - modify the question below\n",
    "user_question = \"What products are performing well and which ones need attention?\"\n",
    "\n",
    "# Use the existing thread to maintain conversation context\n",
    "thread = await chat_with_agent(user_question, thread)"
   ]
  },
  {
   "cell_type": "markdown",
   "id": "728d2f22",
   "metadata": {},
   "source": [
    "## Custom Inventory Query\n",
    "\n",
    "Create your own custom query to test the agent's capabilities."
   ]
  },
  {
   "cell_type": "code",
   "execution_count": 11,
   "id": "b29cfb54",
   "metadata": {},
   "outputs": [
    {
     "data": {
      "text/html": [
       "<div style='margin-bottom:10px'><div style='font-weight:bold'>User:</div><div style='margin-left:20px'>Give me a complete inventory report with recommendations for each product category</div></div><div style='margin-bottom:20px'><div style='font-weight:bold'>Inventory-Management-Agent:</div><div style='margin-left:20px; white-space:pre-wrap'>Here is a complete inventory report with recommendations for each product based on the current inventory levels and weekly sales:\n",
       "\n",
       "### Skincare\n",
       "1. **Moisturizer**\n",
       "   - **Inventory**: 6\n",
       "   - **Weekly Sales**: 22\n",
       "   - **Recommendation**: **Restock** to meet high demand.\n",
       "2. **Skin Serum**\n",
       "   - **Inventory**: 9\n",
       "   - **Weekly Sales**: 19\n",
       "   - **Recommendation**: **Restock** to meet high demand.\n",
       "3. **Cleanser**\n",
       "   - **Inventory**: 30\n",
       "   - **Weekly Sales**: 4\n",
       "   - **Recommendation**: **Consider Clearance** due to high inventory and low sales.\n",
       "\n",
       "### Hair Care\n",
       "1. **Shampoo**\n",
       "   - **Inventory**: 8\n",
       "   - **Weekly Sales**: 18\n",
       "   - **Recommendation**: **Restock** to meet high demand.\n",
       "2. **Conditioner**\n",
       "   - **Inventory**: 3\n",
       "   - **Weekly Sales**: 1\n",
       "   - **Recommendation**: Monitor closely, as sales are low.\n",
       "3. **Hair Gel**\n",
       "   - **Inventory**: 5\n",
       "   - **Weekly Sales**: 2\n",
       "   - **Recommendation**: Monitor or consider reducing inventory levels.\n",
       "\n",
       "### Body Care\n",
       "1. **Body Spray**\n",
       "   - **Inventory**: 28\n",
       "   - **Weekly Sales**: 3\n",
       "   - **Recommendation**: **Consider Clearance** due to high inventory and low sales.\n",
       "\n",
       "### Cosmetics\n",
       "1. **Setting Powder**\n",
       "   - **Inventory**: 17\n",
       "   - **Weekly Sales**: 13\n",
       "   - **Recommendation**: Balanced, monitor sales for trends.\n",
       "\n",
       "### Lip Care\n",
       "1. **Lip Balm**\n",
       "   - **Inventory**: 12\n",
       "   - **Weekly Sales**: 14\n",
       "   - **Recommendation**: Continue monitoring as demand is stable.\n",
       "\n",
       "### Dry Hair Care\n",
       "1. **Dry Shampoo**\n",
       "   - **Inventory**: 45\n",
       "   - **Weekly Sales**: 17\n",
       "   - **Recommendation**: Balanced, monitor inventory levels given strong sales performance.\n",
       "\n",
       "This report provides an overview of the status of your inventory and helps to make informed decisions regarding restocking, monitoring, or adjusting inventory levels.</div></div><hr>"
      ],
      "text/plain": [
       "<IPython.core.display.HTML object>"
      ]
     },
     "metadata": {},
     "output_type": "display_data"
    }
   ],
   "source": [
    "# Custom query - replace with your own question\n",
    "custom_question = \"Give me a complete inventory report with recommendations for each product category\"\n",
    "\n",
    "thread = await chat_with_agent(custom_question, thread)"
   ]
  },
  {
   "cell_type": "markdown",
   "id": "627dc0c0",
   "metadata": {},
   "source": [
    "## View Available MCP Tools\n",
    "\n",
    "Let's examine what tools are available from our custom MCP server."
   ]
  },
  {
   "cell_type": "code",
   "execution_count": 12,
   "id": "a28d4851",
   "metadata": {},
   "outputs": [
    {
     "name": "stdout",
     "output_type": "stream",
     "text": [
      "Available Custom MCP Tools:\n",
      "==================================================\n",
      "\n",
      "Plugin: inventory_server\n",
      "  🔧 get_inventory_levels\n",
      "     Description: Returns current inventory for all products.\n",
      "     Parameters: []\n",
      "  🔧 get_product_details\n",
      "     Description: Returns details for a specific product.\n",
      "     Parameters: ['product_name']\n",
      "  🔧 get_weekly_sales\n",
      "     Description: Returns number of units sold last week.\n",
      "     Parameters: []\n"
     ]
    }
   ],
   "source": [
    "# Display available tools and their descriptions\n",
    "print(\"Available Custom MCP Tools:\")\n",
    "print(\"=\" * 50)\n",
    "\n",
    "for plugin_name, plugin in kernel.plugins.items():\n",
    "    print(f\"\\nPlugin: {plugin_name}\")\n",
    "    for function_name, function in plugin.functions.items():\n",
    "        print(f\"  🔧 {function_name}\")\n",
    "        print(f\"     Description: {function.description}\")\n",
    "        print(f\"     Parameters: {[param.name for param in function.parameters]}\")"
   ]
  },
  {
   "cell_type": "markdown",
   "id": "8f8e5b0e",
   "metadata": {},
   "source": [
    "## Cleanup\n",
    "\n",
    "Clean up the MCP connection when done."
   ]
  },
  {
   "cell_type": "code",
   "execution_count": 13,
   "id": "51e66196",
   "metadata": {},
   "outputs": [
    {
     "name": "stdout",
     "output_type": "stream",
     "text": [
      "Error closing custom MCP plugin: Attempted to exit cancel scope in a different task than it was entered in\n"
     ]
    }
   ],
   "source": [
    "# Clean up MCP connection\n",
    "try:\n",
    "    await mcp_plugin.close()\n",
    "    print(\"✓ Custom MCP Plugin closed successfully\")\n",
    "except Exception as e:\n",
    "    print(f\"Error closing custom MCP plugin: {e}\")"
   ]
  }
 ],
 "metadata": {
  "kernelspec": {
   "display_name": "base",
   "language": "python",
   "name": "python3"
  },
  "language_info": {
   "codemirror_mode": {
    "name": "ipython",
    "version": 3
   },
   "file_extension": ".py",
   "mimetype": "text/x-python",
   "name": "python",
   "nbconvert_exporter": "python",
   "pygments_lexer": "ipython3",
   "version": "3.12.4"
  }
 },
 "nbformat": 4,
 "nbformat_minor": 5
}
