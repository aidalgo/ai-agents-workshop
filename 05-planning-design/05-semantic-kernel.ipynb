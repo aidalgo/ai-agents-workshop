{
 "cells": [
  {
   "cell_type": "markdown",
   "metadata": {},
   "source": [
    "# Planning and Design with Semantic Kernel\n",
    "\n",
    "This notebook demonstrates how to create a planning agent using Semantic Kernel that can break down complex travel requests into structured subtasks. We'll use Pydantic models to ensure structured output and explore how to design agents that can delegate work to specialized sub-agents."
   ]
  },
  {
   "cell_type": "markdown",
   "metadata": {},
   "source": [
    "## Import the Needed Packages\n",
    "\n",
    "We'll import all the necessary libraries including Semantic Kernel for agent creation, Pydantic for data validation, and Azure OpenAI for the language model service."
   ]
  },
  {
   "cell_type": "code",
   "execution_count": 10,
   "metadata": {},
   "outputs": [],
   "source": [
    "import json\n",
    "import os\n",
    "\n",
    "from dotenv import load_dotenv\n",
    "\n",
    "from pydantic import BaseModel, ValidationError, Field\n",
    "from typing import List\n",
    "\n",
    "from azure.identity import DefaultAzureCredential\n",
    "\n",
    "from semantic_kernel.connectors.ai.open_ai import AzureChatCompletion\n",
    "from semantic_kernel.connectors.ai.open_ai.prompt_execution_settings.azure_chat_prompt_execution_settings import AzureChatPromptExecutionSettings\n",
    "from semantic_kernel.agents import ChatCompletionAgent, ChatHistoryAgentThread\n",
    "\n",
    "from semantic_kernel.functions import KernelArguments"
   ]
  },
  {
   "cell_type": "markdown",
   "metadata": {},
   "source": [
    "## Setting up Azure OpenAI Connection\n",
    "\n",
    "Configure the Azure OpenAI service using either API key authentication or Azure AD authentication. This will be used by our Semantic Kernel agents."
   ]
  },
  {
   "cell_type": "code",
   "execution_count": 11,
   "metadata": {},
   "outputs": [],
   "source": [
    "load_dotenv()\n",
    "\n",
    "# Option 1: Using API Key (recommended for development)\n",
    "chat_completion_service = AzureChatCompletion(\n",
    "    deployment_name=os.environ.get(\"AZURE_OPENAI_DEPLOYMENT_NAME\", \"gpt-4o-mini\"),\n",
    "    endpoint=os.environ.get(\"AZURE_OPENAI_ENDPOINT\"),\n",
    "    api_version=os.environ.get(\"AZURE_OPENAI_API_VERSION\", \"2024-02-01\"),\n",
    "    api_key=os.environ.get(\"AZURE_OPENAI_API_KEY\")\n",
    ")\n",
    "\n",
    "# Option 2: Using Azure AD Authentication (uncomment to use)\n",
    "# Create Azure credential \n",
    "credential = DefaultAzureCredential()\n",
    "\n",
    "# Create a token provider function\n",
    "def get_azure_ad_token():\n",
    "    \"\"\"Function to get Azure AD token for OpenAI.\"\"\"\n",
    "    token = credential.get_token(\"https://cognitiveservices.azure.com/.default\")\n",
    "    return token.token\n",
    "\n",
    "# chat_completion_service = AzureChatCompletion(\n",
    "#     deployment_name=os.environ.get(\"AZURE_OPENAI_DEPLOYMENT_NAME\", \"gpt-4o-mini\"),\n",
    "#     endpoint=os.environ.get(\"AZURE_OPENAI_ENDPOINT\"),\n",
    "#     api_version=os.environ.get(\"AZURE_OPENAI_API_VERSION\", \"2024-02-01\"),\n",
    "#     ad_token=get_azure_ad_token()"
   ]
  },
  {
   "cell_type": "markdown",
   "metadata": {},
   "source": [
    "## Define Pydantic Data Models\n",
    "\n",
    "Create structured data models using Pydantic to ensure our planning agent returns well-formatted, validated responses. These models define the structure for subtasks and travel plans."
   ]
  },
  {
   "cell_type": "code",
   "execution_count": null,
   "metadata": {},
   "outputs": [],
   "source": [
    "# Define the structure for individual subtasks\n",
    "class SubTask(BaseModel):\n",
    "    # Which specialized agent should handle this subtask\n",
    "    assigned_agent: str = Field(\n",
    "        description=\"The specific agent assigned to handle this subtask\")\n",
    "    # Detailed description of what needs to be accomplished\n",
    "    task_details: str = Field(\n",
    "        description=\"Detailed description of what needs to be done for this subtask\")\n",
    "\n",
    "\n",
    "# Define the overall structure for the complete travel plan\n",
    "class TravelPlan(BaseModel):\n",
    "    # The original user request that needs to be broken down\n",
    "    main_task: str = Field(\n",
    "        description=\"The overall travel request from the user\")\n",
    "    # Collection of all subtasks that make up the complete plan\n",
    "    subtasks: List[SubTask] = Field(\n",
    "        description=\"List of subtasks broken down from the main task, each assigned to a specialized agent\")"
   ]
  },
  {
   "cell_type": "markdown",
   "metadata": {},
   "source": [
    "## Create the Planning Agent\n",
    "\n",
    "Set up a specialized planning agent that can analyze travel requests and break them down into specific subtasks. The agent is configured with knowledge about different specialized agents and their capabilities."
   ]
  },
  {
   "cell_type": "code",
   "execution_count": 13,
   "metadata": {},
   "outputs": [],
   "source": [
    "AGENT_NAME = \"TravelAgent\"\n",
    "AGENT_INSTRUCTIONS = \"\"\"You are an planner agent.\n",
    "    Your job is to decide which agents to run based on the user's request.\n",
    "    Below are the available agents specialised in different tasks:\n",
    "    - FlightBooking: For booking flights and providing flight information\n",
    "    - HotelBooking: For booking hotels and providing hotel information\n",
    "    - CarRental: For booking cars and providing car rental information\n",
    "    - ActivitiesBooking: For booking activities and providing activity information\n",
    "    - DestinationInfo: For providing information about destinations\n",
    "    - DefaultAgent: For handling general requests\"\"\"\n",
    "\n",
    "# Create the prompt execution settings and configure the Pydantic model response format\n",
    "settings = AzureChatPromptExecutionSettings(response_format=TravelPlan)\n",
    "\n",
    "agent = ChatCompletionAgent(\n",
    "    service=chat_completion_service,\n",
    "    name=AGENT_NAME,\n",
    "    instructions=AGENT_INSTRUCTIONS,\n",
    "    arguments=KernelArguments(settings) \n",
    ")"
   ]
  },
  {
   "cell_type": "markdown",
   "metadata": {},
   "source": [
    "## Test the Planning Agent\n",
    "\n",
    "Run the planning agent with a sample travel request to see how it breaks down the complex task into structured subtasks assigned to different specialized agents."
   ]
  },
  {
   "cell_type": "code",
   "execution_count": 14,
   "metadata": {},
   "outputs": [
    {
     "data": {
      "text/html": [
       "<div style='margin-bottom:10px'><div style='font-weight:bold'>User:</div><div style='margin-left:20px'>Create a travel plan for a family of 4, with 2 kids, from Singapore to Melbourne</div></div><div style='margin-bottom:20px'><div style='font-weight:bold'>Validated Travel Plan:</div><pre style='margin-left:20px; padding:10px; border-radius:5px;'>{\n",
       "    \"main_task\": \"Create a travel plan for a family of four traveling from Singapore to Melbourne.\",\n",
       "    \"subtasks\": [\n",
       "        {\n",
       "            \"assigned_agent\": \"FlightBooking\",\n",
       "            \"task_details\": \"Book flights for four people (two adults and two children) from Singapore to Melbourne, including return flights.\"\n",
       "        },\n",
       "        {\n",
       "            \"assigned_agent\": \"HotelBooking\",\n",
       "            \"task_details\": \"Find family-friendly accommodations in Melbourne suitable for four people, for the duration of the trip.\"\n",
       "        },\n",
       "        {\n",
       "            \"assigned_agent\": \"CarRental\",\n",
       "            \"task_details\": \"Arrange for a rental car in Melbourne with adequate space for four people, including child seats if required.\"\n",
       "        },\n",
       "        {\n",
       "            \"assigned_agent\": \"ActivitiesBooking\",\n",
       "            \"task_details\": \"Suggest and book family-friendly activities and attractions in Melbourne, considering the interests of both adults and children.\"\n",
       "        },\n",
       "        {\n",
       "            \"assigned_agent\": \"DestinationInfo\",\n",
       "            \"task_details\": \"Provide information about Melbourne, including family-friendly dining options, attractions, and safety tips in the city.\"\n",
       "        }\n",
       "    ]\n",
       "}</pre></div><hr>"
      ],
      "text/plain": [
       "<IPython.core.display.HTML object>"
      ]
     },
     "metadata": {},
     "output_type": "display_data"
    }
   ],
   "source": [
    "from IPython.display import display, HTML\n",
    "\n",
    "\n",
    "async def main():\n",
    "    # Create a thread for the agent\n",
    "    # If no thread is provided, a new thread will be\n",
    "    # created and returned with the initial response\n",
    "    thread: ChatHistoryAgentThread | None = None\n",
    "\n",
    "    # Respond to user input\n",
    "    user_inputs = [\n",
    "        \"Create a travel plan for a family of 4, with 2 kids, from Singapore to Melbourne\",\n",
    "    ]\n",
    "\n",
    "    for user_input in user_inputs:\n",
    "        \n",
    "        # Start building HTML output\n",
    "        html_output = \"<div style='margin-bottom:10px'>\"\n",
    "        html_output += \"<div style='font-weight:bold'>User:</div>\"\n",
    "        html_output += f\"<div style='margin-left:20px'>{user_input}</div>\"\n",
    "        html_output += \"</div>\"\n",
    "\n",
    "        # Collect the agent's response\n",
    "        response = await agent.get_response(messages=user_input, thread=thread)\n",
    "        thread = response.thread\n",
    "\n",
    "        try:\n",
    "            # Try to validate the response as a TravelPlan\n",
    "            travel_plan = TravelPlan.model_validate(json.loads(response.message.content))\n",
    "\n",
    "            # Display the validated model as formatted JSON\n",
    "            formatted_json = travel_plan.model_dump_json(indent=4)\n",
    "            html_output += \"<div style='margin-bottom:20px'>\"\n",
    "            html_output += \"<div style='font-weight:bold'>Validated Travel Plan:</div>\"\n",
    "            html_output += f\"<pre style='margin-left:20px; padding:10px; border-radius:5px;'>{formatted_json}</pre>\"\n",
    "            html_output += \"</div>\"\n",
    "        except ValidationError as e:\n",
    "            # Handle validation errors\n",
    "            html_output += \"<div style='margin-bottom:20px; color:red;'>\"\n",
    "            html_output += \"<div style='font-weight:bold'>Validation Error:</div>\"\n",
    "            html_output += f\"<pre style='margin-left:20px;'>{str(e)}</pre>\"\n",
    "            html_output += \"</div>\"\n",
    "            # Add this to see what the response contains for debugging\n",
    "            html_output += \"<div style='margin-bottom:20px;'>\"\n",
    "            html_output += \"<div style='font-weight:bold'>Raw Response:</div>\"\n",
    "            html_output += f\"<div style='margin-left:20px; white-space:pre-wrap'>{response.content}</div>\"\n",
    "            html_output += \"</div>\"\n",
    "\n",
    "        html_output += \"<hr>\"\n",
    "\n",
    "        # Display formatted HTML\n",
    "        display(HTML(html_output))\n",
    "\n",
    "await main()"
   ]
  },
  {
   "cell_type": "markdown",
   "metadata": {},
   "source": [
    "## Expected Output\n",
    "\n",
    "The planning agent will generate a structured travel plan with subtasks assigned to specialized agents. Here's what you should expect to see:"
   ]
  },
  {
   "cell_type": "markdown",
   "metadata": {},
   "source": [
    "You should see sample output similar to:\n",
    "\n",
    "```json\n",
    "User:\n",
    "Create a travel plan for a family of 4, with 2 kids, from Singapore to Melboune\n",
    "Validated Travel Plan:\n",
    "{\n",
    "    \"main_task\": \"Plan a family trip from Singapore to Melbourne for 4 people including 2 kids.\",\n",
    "    \"subtasks\": [\n",
    "        {\n",
    "            \"assigned_agent\": \"FlightBooking\",\n",
    "            \"task_details\": \"Book round-trip flights from Singapore to Melbourne for 2 adults and 2 children.\"\n",
    "        },\n",
    "        {\n",
    "            \"assigned_agent\": \"HotelBooking\",\n",
    "            \"task_details\": \"Find and book a family-friendly hotel in Melbourne that accommodates 4 people.\"\n",
    "        },\n",
    "        {\n",
    "            \"assigned_agent\": \"CarRental\",\n",
    "            \"task_details\": \"Arrange for a car rental in Melbourne suitable for a family of 4.\"\n",
    "        },\n",
    "        {\n",
    "            \"assigned_agent\": \"ActivitiesBooking\",\n",
    "            \"task_details\": \"Plan and book family-friendly activities in Melbourne suitable for kids.\"\n",
    "        },\n",
    "        {\n",
    "            \"assigned_agent\": \"DestinationInfo\",\n",
    "            \"task_details\": \"Provide information about Melbourne, including attractions, dining options, and family-oriented activities.\"\n",
    "        }\n",
    "    ]\n",
    "}\n",
    "```"
   ]
  },
  {
   "cell_type": "markdown",
   "metadata": {},
   "source": [
    "## Experiment with Different Travel Requests\n",
    "\n",
    "Try modifying the user input in the code above to test how the planning agent handles different types of travel scenarios. You can experiment with different destinations, group sizes, and travel preferences."
   ]
  },
  {
   "cell_type": "code",
   "execution_count": null,
   "metadata": {},
   "outputs": [],
   "source": [
    "# Example: Try different travel scenarios\n",
    "# Modify the user_inputs list in the main() function above with these examples:\n",
    "\n",
    "example_requests = [\n",
    "    \"Plan a business trip for 2 people from New York to Tokyo for a tech conference\",\n",
    "    \"Create a romantic getaway for 2 from Paris to Santorini for a honeymoon\",\n",
    "    \"Organize a group adventure for 8 friends from London to Iceland for hiking and photography\",\n",
    "    \"Plan a solo backpacking trip from Bangkok to various Southeast Asian countries\",\n",
    "    \"Arrange a multi-generational family vacation for 12 people from Toronto to Disney World\"\n",
    "]\n",
    "\n",
    "# Replace the user_inputs in the main() function with any of these examples\n",
    "# Then run the main() function again to see how the planning agent adapts\n",
    "\n",
    "print(\"Try these example requests by modifying the user_inputs list in the main() function above:\")\n",
    "for i, request in enumerate(example_requests, 1):\n",
    "    print(f\"{i}. {request}\")"
   ]
  },
  {
   "cell_type": "markdown",
   "metadata": {},
   "source": [
    "## Key Concepts Demonstrated\n",
    "\n",
    "This notebook showcases several important AI agent design patterns:\n",
    "\n",
    "### 1. **Structured Output with Pydantic**\n",
    "- Using Pydantic models to ensure the agent returns well-formatted, validated data\n",
    "- The `response_format` parameter enforces the agent to follow the defined schema\n",
    "\n",
    "### 2. **Planning and Delegation**\n",
    "- A planning agent that analyzes complex requests and breaks them into manageable subtasks\n",
    "- Each subtask is assigned to a specialized agent based on its capabilities\n",
    "\n",
    "### 3. **Agent Specialization**\n",
    "- Different agents handle specific domains (flights, hotels, car rentals, activities, destination info)\n",
    "- This modular approach allows for better expertise and easier maintenance\n",
    "\n",
    "### 4. **Validation and Error Handling**\n",
    "- The code includes proper validation to ensure the agent's response matches expected format\n",
    "- Error handling provides debugging information when validation fails\n",
    "\n",
    "This pattern is particularly useful for complex workflows that require coordination between multiple specialized systems or agents."
   ]
  }
 ],
 "metadata": {
  "kernelspec": {
   "display_name": "base",
   "language": "python",
   "name": "python3"
  },
  "language_info": {
   "codemirror_mode": {
    "name": "ipython",
    "version": 3
   },
   "file_extension": ".py",
   "mimetype": "text/x-python",
   "name": "python",
   "nbconvert_exporter": "python",
   "pygments_lexer": "ipython3",
   "version": "3.12.4"
  }
 },
 "nbformat": 4,
 "nbformat_minor": 2
}
